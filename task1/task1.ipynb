{
 "cells": [
  {
   "cell_type": "code",
   "execution_count": 2,
   "metadata": {},
   "outputs": [],
   "source": [
    "import numpy as np\n",
    "my_arr=np.arange(1000000)\n",
    "my_list=list(range(1000000))\n"
   ]
  },
  {
   "cell_type": "code",
   "execution_count": 4,
   "metadata": {},
   "outputs": [
    {
     "name": "stdout",
     "output_type": "stream",
     "text": [
      "Wall time: 56 ms\n"
     ]
    }
   ],
   "source": [
    "%time for _ in range(10): my_arr2= my_arr*2"
   ]
  },
  {
   "cell_type": "code",
   "execution_count": 6,
   "metadata": {},
   "outputs": [
    {
     "name": "stdout",
     "output_type": "stream",
     "text": [
      "Wall time: 897 ms\n"
     ]
    }
   ],
   "source": [
    "%time for _ in range(10): my_list2 = [x*2 for x in my_list]"
   ]
  },
  {
   "cell_type": "code",
   "execution_count": 8,
   "metadata": {},
   "outputs": [],
   "source": [
    "data = np.random.randn(2,3)"
   ]
  },
  {
   "cell_type": "code",
   "execution_count": 9,
   "metadata": {},
   "outputs": [
    {
     "data": {
      "text/plain": [
       "array([[-1.37071712,  0.07858188,  1.79062892],\n",
       "       [ 2.03803631,  0.45932459, -2.1663931 ]])"
      ]
     },
     "execution_count": 9,
     "metadata": {},
     "output_type": "execute_result"
    }
   ],
   "source": [
    "data"
   ]
  },
  {
   "cell_type": "code",
   "execution_count": 10,
   "metadata": {},
   "outputs": [
    {
     "data": {
      "text/plain": [
       "array([[-13.70717123,   0.78581881,  17.9062892 ],\n",
       "       [ 20.38036311,   4.5932459 , -21.663931  ]])"
      ]
     },
     "execution_count": 10,
     "metadata": {},
     "output_type": "execute_result"
    }
   ],
   "source": [
    "data*10"
   ]
  },
  {
   "cell_type": "code",
   "execution_count": 11,
   "metadata": {},
   "outputs": [
    {
     "data": {
      "text/plain": [
       "array([[-2.74143425,  0.15716376,  3.58125784],\n",
       "       [ 4.07607262,  0.91864918, -4.3327862 ]])"
      ]
     },
     "execution_count": 11,
     "metadata": {},
     "output_type": "execute_result"
    }
   ],
   "source": [
    "data + data"
   ]
  },
  {
   "cell_type": "code",
   "execution_count": 12,
   "metadata": {},
   "outputs": [
    {
     "data": {
      "text/plain": [
       "(2, 3)"
      ]
     },
     "execution_count": 12,
     "metadata": {},
     "output_type": "execute_result"
    }
   ],
   "source": [
    "data.shape"
   ]
  },
  {
   "cell_type": "code",
   "execution_count": 14,
   "metadata": {},
   "outputs": [
    {
     "data": {
      "text/plain": [
       "dtype('float64')"
      ]
     },
     "execution_count": 14,
     "metadata": {},
     "output_type": "execute_result"
    }
   ],
   "source": [
    "data.dtype"
   ]
  },
  {
   "cell_type": "code",
   "execution_count": 15,
   "metadata": {},
   "outputs": [],
   "source": [
    "data1 = [1,2,3,4]\n",
    "arr1=np.array(data1)"
   ]
  },
  {
   "cell_type": "code",
   "execution_count": 17,
   "metadata": {},
   "outputs": [
    {
     "data": {
      "text/plain": [
       "array([1, 2, 3, 4])"
      ]
     },
     "execution_count": 17,
     "metadata": {},
     "output_type": "execute_result"
    }
   ],
   "source": [
    "arr1"
   ]
  },
  {
   "cell_type": "code",
   "execution_count": 19,
   "metadata": {},
   "outputs": [
    {
     "data": {
      "text/plain": [
       "[1, 2, 3, 4]"
      ]
     },
     "execution_count": 19,
     "metadata": {},
     "output_type": "execute_result"
    }
   ],
   "source": [
    "data1"
   ]
  },
  {
   "cell_type": "code",
   "execution_count": 21,
   "metadata": {},
   "outputs": [
    {
     "data": {
      "text/plain": [
       "dtype('int32')"
      ]
     },
     "execution_count": 21,
     "metadata": {},
     "output_type": "execute_result"
    }
   ],
   "source": [
    "arr1.dtype"
   ]
  },
  {
   "cell_type": "code",
   "execution_count": 24,
   "metadata": {},
   "outputs": [],
   "source": [
    "data2=[[1,2,3.0],[4,5,6]]\n",
    "arr2=np.array(data2)"
   ]
  },
  {
   "cell_type": "code",
   "execution_count": 25,
   "metadata": {},
   "outputs": [
    {
     "data": {
      "text/plain": [
       "array([[1., 2., 3.],\n",
       "       [4., 5., 6.]])"
      ]
     },
     "execution_count": 25,
     "metadata": {},
     "output_type": "execute_result"
    }
   ],
   "source": [
    "arr2"
   ]
  },
  {
   "cell_type": "code",
   "execution_count": 26,
   "metadata": {},
   "outputs": [
    {
     "data": {
      "text/plain": [
       "dtype('float64')"
      ]
     },
     "execution_count": 26,
     "metadata": {},
     "output_type": "execute_result"
    }
   ],
   "source": [
    "arr2.dtype"
   ]
  },
  {
   "cell_type": "code",
   "execution_count": 27,
   "metadata": {},
   "outputs": [
    {
     "data": {
      "text/plain": [
       "array([0., 0., 0., 0., 0., 0., 0., 0., 0., 0., 0., 0., 0., 0., 0., 0., 0.,\n",
       "       0., 0., 0., 0., 0., 0., 0., 0., 0., 0., 0., 0., 0., 0., 0.])"
      ]
     },
     "execution_count": 27,
     "metadata": {},
     "output_type": "execute_result"
    }
   ],
   "source": [
    "np.zeros(32)"
   ]
  },
  {
   "cell_type": "code",
   "execution_count": 29,
   "metadata": {},
   "outputs": [
    {
     "data": {
      "text/plain": [
       "dtype('float64')"
      ]
     },
     "execution_count": 29,
     "metadata": {},
     "output_type": "execute_result"
    }
   ],
   "source": [
    "np.zeros((3,4)).dtype"
   ]
  },
  {
   "cell_type": "code",
   "execution_count": 36,
   "metadata": {},
   "outputs": [
    {
     "data": {
      "text/plain": [
       "array([[[6.23042070e-307, 7.56587584e-307, 1.37961302e-306,\n",
       "         6.23053614e-307],\n",
       "        [8.45593934e-307, 7.56593017e-307, 1.86921958e-306,\n",
       "         1.11261027e-306],\n",
       "        [1.11261502e-306, 1.42410839e-306, 7.56597770e-307,\n",
       "         6.23059726e-307]],\n",
       "\n",
       "       [[2.04723228e-306, 9.34600963e-307, 2.04719290e-306,\n",
       "         9.34600963e-307],\n",
       "        [2.04719290e-306, 9.34600963e-307, 9.34609111e-307,\n",
       "         1.78019354e-306],\n",
       "        [8.45602762e-307, 7.56603882e-307, 1.60219035e-306,\n",
       "         2.56765117e-312]]])"
      ]
     },
     "execution_count": 36,
     "metadata": {},
     "output_type": "execute_result"
    }
   ],
   "source": [
    "np.empty((2,3,4))"
   ]
  },
  {
   "cell_type": "code",
   "execution_count": 39,
   "metadata": {},
   "outputs": [
    {
     "data": {
      "text/plain": [
       "dtype('int32')"
      ]
     },
     "execution_count": 39,
     "metadata": {},
     "output_type": "execute_result"
    }
   ],
   "source": [
    "np.arange(12).dtype"
   ]
  },
  {
   "cell_type": "code",
   "execution_count": 43,
   "metadata": {},
   "outputs": [],
   "source": [
    "arr1=np.array([1,2.0,3],dtype=np.int32)"
   ]
  },
  {
   "cell_type": "code",
   "execution_count": 44,
   "metadata": {},
   "outputs": [
    {
     "data": {
      "text/plain": [
       "dtype('int32')"
      ]
     },
     "execution_count": 44,
     "metadata": {},
     "output_type": "execute_result"
    }
   ],
   "source": [
    "arr1.dtype"
   ]
  },
  {
   "cell_type": "code",
   "execution_count": 45,
   "metadata": {},
   "outputs": [
    {
     "data": {
      "text/plain": [
       "array([1, 2, 3])"
      ]
     },
     "execution_count": 45,
     "metadata": {},
     "output_type": "execute_result"
    }
   ],
   "source": [
    "arr1"
   ]
  },
  {
   "cell_type": "code",
   "execution_count": 52,
   "metadata": {},
   "outputs": [],
   "source": [
    "k=arr1.astype(np.float64)"
   ]
  },
  {
   "cell_type": "code",
   "execution_count": 53,
   "metadata": {},
   "outputs": [
    {
     "data": {
      "text/plain": [
       "dtype('float64')"
      ]
     },
     "execution_count": 53,
     "metadata": {},
     "output_type": "execute_result"
    }
   ],
   "source": [
    "k.dtype"
   ]
  },
  {
   "cell_type": "code",
   "execution_count": 55,
   "metadata": {},
   "outputs": [
    {
     "data": {
      "text/plain": [
       "array([1.1, 1.2, 1.3])"
      ]
     },
     "execution_count": 55,
     "metadata": {},
     "output_type": "execute_result"
    }
   ],
   "source": [
    "arr=np.array([1.1,1.2,1.3])\n",
    "arr"
   ]
  },
  {
   "cell_type": "code",
   "execution_count": 56,
   "metadata": {},
   "outputs": [
    {
     "data": {
      "text/plain": [
       "array([1, 1, 1])"
      ]
     },
     "execution_count": 56,
     "metadata": {},
     "output_type": "execute_result"
    }
   ],
   "source": [
    "arr.astype(np.int32)"
   ]
  },
  {
   "cell_type": "code",
   "execution_count": 58,
   "metadata": {},
   "outputs": [
    {
     "data": {
      "text/plain": [
       "array([1.25, 1.3 ])"
      ]
     },
     "execution_count": 58,
     "metadata": {},
     "output_type": "execute_result"
    }
   ],
   "source": [
    "numeric_strings = np.array(['1.25','1.3'],dtype=np.string_)\n",
    "numeric_strings.astype(float)"
   ]
  },
  {
   "cell_type": "code",
   "execution_count": 63,
   "metadata": {},
   "outputs": [],
   "source": [
    "int_array=np.arange(10)"
   ]
  },
  {
   "cell_type": "code",
   "execution_count": 64,
   "metadata": {},
   "outputs": [
    {
     "data": {
      "text/plain": [
       "dtype('int32')"
      ]
     },
     "execution_count": 64,
     "metadata": {},
     "output_type": "execute_result"
    }
   ],
   "source": [
    "int_array.dtype"
   ]
  },
  {
   "cell_type": "code",
   "execution_count": 65,
   "metadata": {},
   "outputs": [
    {
     "data": {
      "text/plain": [
       "array([0., 1., 2., 3., 4., 5., 6., 7., 8., 9.])"
      ]
     },
     "execution_count": 65,
     "metadata": {},
     "output_type": "execute_result"
    }
   ],
   "source": [
    "change=np.array([1.0,2.0])\n",
    "int_array.astype(change.dtype)"
   ]
  },
  {
   "cell_type": "code",
   "execution_count": 66,
   "metadata": {},
   "outputs": [
    {
     "data": {
      "text/plain": [
       "array([0, 0, 0, 0, 0, 0, 0, 0], dtype=uint32)"
      ]
     },
     "execution_count": 66,
     "metadata": {},
     "output_type": "execute_result"
    }
   ],
   "source": [
    "d=np.empty(8,dtype='u4')\n",
    "d"
   ]
  },
  {
   "cell_type": "code",
   "execution_count": 68,
   "metadata": {},
   "outputs": [
    {
     "data": {
      "text/plain": [
       "array([[ 1,  4,  4],\n",
       "       [ 4,  9, 16]])"
      ]
     },
     "execution_count": 68,
     "metadata": {},
     "output_type": "execute_result"
    }
   ],
   "source": [
    "arr = np.array([[1,2,2],[2,3,4]])\n",
    "arr*arr"
   ]
  },
  {
   "cell_type": "code",
   "execution_count": 69,
   "metadata": {},
   "outputs": [
    {
     "data": {
      "text/plain": [
       "array([[ True,  True,  True],\n",
       "       [ True, False, False]])"
      ]
     },
     "execution_count": 69,
     "metadata": {},
     "output_type": "execute_result"
    }
   ],
   "source": [
    "arr1= np.array([[2,3,4],[3,1,2]])\n",
    "arr1>arr"
   ]
  },
  {
   "cell_type": "code",
   "execution_count": 72,
   "metadata": {},
   "outputs": [
    {
     "data": {
      "text/plain": [
       "array([0, 1, 2, 3, 4, 5, 6, 7, 8, 9])"
      ]
     },
     "execution_count": 72,
     "metadata": {},
     "output_type": "execute_result"
    }
   ],
   "source": [
    "arr = np.arange(10)\n",
    "arr"
   ]
  },
  {
   "cell_type": "code",
   "execution_count": 73,
   "metadata": {},
   "outputs": [
    {
     "data": {
      "text/plain": [
       "3"
      ]
     },
     "execution_count": 73,
     "metadata": {},
     "output_type": "execute_result"
    }
   ],
   "source": [
    "arr[3]"
   ]
  },
  {
   "cell_type": "code",
   "execution_count": 77,
   "metadata": {},
   "outputs": [
    {
     "data": {
      "text/plain": [
       "array([ 0,  1, 10, 10,  4,  5,  6,  7,  8,  9])"
      ]
     },
     "execution_count": 77,
     "metadata": {},
     "output_type": "execute_result"
    }
   ],
   "source": [
    "arr[2:4]=10\n",
    "arr"
   ]
  },
  {
   "cell_type": "code",
   "execution_count": 78,
   "metadata": {},
   "outputs": [
    {
     "data": {
      "text/plain": [
       "array([    0,     1,    10,    10,     4, 10000,     6,     7,     8,\n",
       "           9])"
      ]
     },
     "execution_count": 78,
     "metadata": {},
     "output_type": "execute_result"
    }
   ],
   "source": [
    "d=arr[5:8]\n",
    "d[0]=10000\n",
    "arr"
   ]
  },
  {
   "cell_type": "code",
   "execution_count": 79,
   "metadata": {},
   "outputs": [
    {
     "data": {
      "text/plain": [
       "array([ 0,  1, 10, 10,  4, 23, 23, 23,  8,  9])"
      ]
     },
     "execution_count": 79,
     "metadata": {},
     "output_type": "execute_result"
    }
   ],
   "source": [
    "d[:]=23\n",
    "arr"
   ]
  },
  {
   "cell_type": "code",
   "execution_count": 83,
   "metadata": {},
   "outputs": [
    {
     "data": {
      "text/plain": [
       "2"
      ]
     },
     "execution_count": 83,
     "metadata": {},
     "output_type": "execute_result"
    }
   ],
   "source": [
    "arr2d= np.array([[1,2,3],[2,5,6]])\n",
    "arr2d[0,1]"
   ]
  },
  {
   "cell_type": "code",
   "execution_count": 84,
   "metadata": {},
   "outputs": [
    {
     "data": {
      "text/plain": [
       "array([[[ 1,  2,  3],\n",
       "        [ 4,  5,  6]],\n",
       "\n",
       "       [[ 7,  8,  9],\n",
       "        [10, 11, 12]]])"
      ]
     },
     "execution_count": 84,
     "metadata": {},
     "output_type": "execute_result"
    }
   ],
   "source": [
    "arr3d= np.array([[[1,2,3],[4,5,6]],[[7,8,9],[10,11,12]]])\n",
    "arr3d"
   ]
  },
  {
   "cell_type": "code",
   "execution_count": 86,
   "metadata": {},
   "outputs": [
    {
     "data": {
      "text/plain": [
       "5"
      ]
     },
     "execution_count": 86,
     "metadata": {},
     "output_type": "execute_result"
    }
   ],
   "source": [
    "arr3d[0,1,1]"
   ]
  },
  {
   "cell_type": "code",
   "execution_count": 91,
   "metadata": {},
   "outputs": [
    {
     "data": {
      "text/plain": [
       "array([1, 4])"
      ]
     },
     "execution_count": 91,
     "metadata": {},
     "output_type": "execute_result"
    }
   ],
   "source": [
    "arr=np.array([[1,2,3],[4,5,6],[7,8,9]])\n",
    "a1=arr[:2,0]\n",
    "a1"
   ]
  },
  {
   "cell_type": "code",
   "execution_count": 94,
   "metadata": {},
   "outputs": [
    {
     "data": {
      "text/plain": [
       "array([7, 8])"
      ]
     },
     "execution_count": 94,
     "metadata": {},
     "output_type": "execute_result"
    }
   ],
   "source": [
    "a2=arr[2,:2]\n",
    "a2"
   ]
  },
  {
   "cell_type": "code",
   "execution_count": 101,
   "metadata": {},
   "outputs": [
    {
     "data": {
      "text/plain": [
       "2"
      ]
     },
     "execution_count": 101,
     "metadata": {},
     "output_type": "execute_result"
    }
   ],
   "source": [
    "a3=arr[:2,:1]\n",
    "a3.ndim"
   ]
  },
  {
   "cell_type": "code",
   "execution_count": 102,
   "metadata": {},
   "outputs": [
    {
     "data": {
      "text/plain": [
       "array([[1, 0, 0],\n",
       "       [4, 0, 0],\n",
       "       [7, 8, 9]])"
      ]
     },
     "execution_count": 102,
     "metadata": {},
     "output_type": "execute_result"
    }
   ],
   "source": [
    "arr[:2,1:]=0\n",
    "arr"
   ]
  },
  {
   "cell_type": "code",
   "execution_count": 103,
   "metadata": {},
   "outputs": [
    {
     "data": {
      "text/plain": [
       "array([ True, False, False,  True, False])"
      ]
     },
     "execution_count": 103,
     "metadata": {},
     "output_type": "execute_result"
    }
   ],
   "source": [
    "names = np.array(['bob','joe', 'will', 'bob', 'will'])\n",
    "names == 'bob'"
   ]
  },
  {
   "cell_type": "code",
   "execution_count": 116,
   "metadata": {},
   "outputs": [
    {
     "data": {
      "text/plain": [
       "array([[1, 2],\n",
       "       [7, 8]])"
      ]
     },
     "execution_count": 116,
     "metadata": {},
     "output_type": "execute_result"
    }
   ],
   "source": [
    "data = np.array([[1,2],[3,4],[5,6],[7,8],[9,10]])\n",
    "data[names=='bob']"
   ]
  },
  {
   "cell_type": "code",
   "execution_count": 122,
   "metadata": {},
   "outputs": [
    {
     "data": {
      "text/plain": [
       "array([[ 3,  4],\n",
       "       [ 5,  6],\n",
       "       [ 9, 10]])"
      ]
     },
     "execution_count": 122,
     "metadata": {},
     "output_type": "execute_result"
    }
   ],
   "source": [
    "data[~(names == 'bob')]"
   ]
  },
  {
   "cell_type": "code",
   "execution_count": 130,
   "metadata": {},
   "outputs": [
    {
     "data": {
      "text/plain": [
       "array([False, False, False, False, False])"
      ]
     },
     "execution_count": 130,
     "metadata": {},
     "output_type": "execute_result"
    }
   ],
   "source": [
    "mask = ( names == 'bob' ) & ( names == 'will' )\n",
    "mask"
   ]
  },
  {
   "cell_type": "code",
   "execution_count": 120,
   "metadata": {},
   "outputs": [
    {
     "data": {
      "text/plain": [
       "array([5, 3])"
      ]
     },
     "execution_count": 120,
     "metadata": {},
     "output_type": "execute_result"
    }
   ],
   "source": [
    "data[[2,1],0]"
   ]
  },
  {
   "cell_type": "code",
   "execution_count": 132,
   "metadata": {},
   "outputs": [
    {
     "data": {
      "text/plain": [
       "array([[7, 7],\n",
       "       [3, 3],\n",
       "       [3, 3],\n",
       "       [7, 7],\n",
       "       [3, 3]])"
      ]
     },
     "execution_count": 132,
     "metadata": {},
     "output_type": "execute_result"
    }
   ],
   "source": [
    "data[data>0]= 3\n",
    "data\n",
    "data[names == 'bob']=7\n",
    "data"
   ]
  },
  {
   "cell_type": "code",
   "execution_count": 135,
   "metadata": {},
   "outputs": [
    {
     "data": {
      "text/plain": [
       "array([[4.18796331e-312, 4.18796331e-312, 4.18796331e-312,\n",
       "        4.18796331e-312],\n",
       "       [4.18796331e-312, 4.18796331e-312, 4.18796331e-312,\n",
       "        4.18796331e-312],\n",
       "       [4.18796331e-312, 4.18796331e-312, 4.18796331e-312,\n",
       "        4.18796331e-312],\n",
       "       [4.18796331e-312, 4.18796331e-312, 4.18796331e-312,\n",
       "        4.18796332e-312],\n",
       "       [4.18796332e-312, 4.18796332e-312, 4.18796332e-312,\n",
       "        4.18796332e-312],\n",
       "       [4.18796332e-312, 4.18796332e-312, 4.18796332e-312,\n",
       "        4.18796332e-312],\n",
       "       [4.18796332e-312, 4.18796332e-312, 4.18796332e-312,\n",
       "        4.18796332e-312],\n",
       "       [4.18796332e-312, 4.18796332e-312, 4.18796332e-312,\n",
       "        4.18796332e-312]])"
      ]
     },
     "execution_count": 135,
     "metadata": {},
     "output_type": "execute_result"
    }
   ],
   "source": [
    "arr=np.empty((8,4))\n",
    "arr"
   ]
  },
  {
   "cell_type": "code",
   "execution_count": 137,
   "metadata": {},
   "outputs": [
    {
     "data": {
      "text/plain": [
       "array([[0., 0., 0., 0.],\n",
       "       [1., 1., 1., 1.],\n",
       "       [2., 2., 2., 2.],\n",
       "       [3., 3., 3., 3.],\n",
       "       [4., 4., 4., 4.],\n",
       "       [5., 5., 5., 5.],\n",
       "       [6., 6., 6., 6.],\n",
       "       [7., 7., 7., 7.]])"
      ]
     },
     "execution_count": 137,
     "metadata": {},
     "output_type": "execute_result"
    }
   ],
   "source": [
    "for i in range(8):\n",
    "    arr[i]=i\n",
    "arr"
   ]
  },
  {
   "cell_type": "code",
   "execution_count": 139,
   "metadata": {},
   "outputs": [
    {
     "data": {
      "text/plain": [
       "array([[5., 5., 5., 5.],\n",
       "       [3., 3., 3., 3.],\n",
       "       [0., 0., 0., 0.]])"
      ]
     },
     "execution_count": 139,
     "metadata": {},
     "output_type": "execute_result"
    }
   ],
   "source": [
    "arr[[-3,-5,-8]]"
   ]
  },
  {
   "cell_type": "code",
   "execution_count": 150,
   "metadata": {},
   "outputs": [
    {
     "data": {
      "text/plain": [
       "array([[ 0,  1,  2,  3],\n",
       "       [ 4,  5,  6,  7],\n",
       "       [ 8,  9, 10, 11],\n",
       "       [12, 13, 14, 15],\n",
       "       [16, 17, 18, 19],\n",
       "       [20, 21, 22, 23],\n",
       "       [24, 25, 26, 27],\n",
       "       [28, 29, 30, 31]])"
      ]
     },
     "execution_count": 150,
     "metadata": {},
     "output_type": "execute_result"
    }
   ],
   "source": [
    "arr=np.arange(32).reshape(8,4)\n",
    "arr"
   ]
  },
  {
   "cell_type": "code",
   "execution_count": 141,
   "metadata": {},
   "outputs": [
    {
     "data": {
      "text/plain": [
       "array([ 5,  9, 13])"
      ]
     },
     "execution_count": 141,
     "metadata": {},
     "output_type": "execute_result"
    }
   ],
   "source": [
    "arr[[1,2,3],[1,1,1]]"
   ]
  },
  {
   "cell_type": "code",
   "execution_count": 151,
   "metadata": {},
   "outputs": [
    {
     "data": {
      "text/plain": [
       "array([[ 0,  1,  2,  3],\n",
       "       [ 0,  0,  0,  0],\n",
       "       [ 8,  9, 10, 11],\n",
       "       [12, 13, 14, 15],\n",
       "       [16, 17, 18, 19],\n",
       "       [20, 21, 22, 23],\n",
       "       [24, 25, 26, 27],\n",
       "       [28, 29, 30, 31]])"
      ]
     },
     "execution_count": 151,
     "metadata": {},
     "output_type": "execute_result"
    }
   ],
   "source": [
    "arr[1]=0\n",
    "arr"
   ]
  },
  {
   "cell_type": "code",
   "execution_count": 152,
   "metadata": {},
   "outputs": [
    {
     "data": {
      "text/plain": [
       "array([0.        , 1.        , 1.41421356, 1.73205081, 2.        ,\n",
       "       2.23606798, 2.44948974, 2.64575131, 2.82842712, 3.        ])"
      ]
     },
     "execution_count": 152,
     "metadata": {},
     "output_type": "execute_result"
    }
   ],
   "source": [
    "arr=np.arange(10)\n",
    "np.sqrt(arr)"
   ]
  },
  {
   "cell_type": "code",
   "execution_count": 158,
   "metadata": {},
   "outputs": [
    {
     "data": {
      "text/plain": [
       "array([1.00000000e+00, 2.71828183e+00, 7.38905610e+00, 2.00855369e+01,\n",
       "       5.45981500e+01, 1.48413159e+02, 4.03428793e+02, 1.09663316e+03,\n",
       "       2.98095799e+03, 8.10308393e+03])"
      ]
     },
     "execution_count": 158,
     "metadata": {},
     "output_type": "execute_result"
    }
   ],
   "source": [
    "arr\n",
    "k=np.exp(arr)\n",
    "k"
   ]
  },
  {
   "cell_type": "code",
   "execution_count": 165,
   "metadata": {},
   "outputs": [
    {
     "data": {
      "text/plain": [
       "array([  0,   1,   8,  27,  64, 125, 216, 343, 512, 729], dtype=int32)"
      ]
     },
     "execution_count": 165,
     "metadata": {},
     "output_type": "execute_result"
    }
   ],
   "source": [
    "d=arr**3\n",
    "d"
   ]
  },
  {
   "cell_type": "code",
   "execution_count": 166,
   "metadata": {},
   "outputs": [
    {
     "data": {
      "text/plain": [
       "array([1.00000000e+00, 2.71828183e+00, 8.00000000e+00, 2.70000000e+01,\n",
       "       6.40000000e+01, 1.48413159e+02, 4.03428793e+02, 1.09663316e+03,\n",
       "       2.98095799e+03, 8.10308393e+03])"
      ]
     },
     "execution_count": 166,
     "metadata": {},
     "output_type": "execute_result"
    }
   ],
   "source": [
    "np.maximum(d,k)"
   ]
  },
  {
   "cell_type": "code",
   "execution_count": 170,
   "metadata": {},
   "outputs": [
    {
     "data": {
      "text/plain": [
       "array([-2.3541275 ,  3.01557329,  1.11224956, -2.1957698 ,  6.18830958,\n",
       "       -3.33208047,  0.01835336])"
      ]
     },
     "execution_count": 170,
     "metadata": {},
     "output_type": "execute_result"
    }
   ],
   "source": [
    "arr = np.random.randn(7)*5\n",
    "remainder , whole_part = np.modf(arr)\n",
    "arr"
   ]
  },
  {
   "cell_type": "code",
   "execution_count": 171,
   "metadata": {},
   "outputs": [
    {
     "data": {
      "text/plain": [
       "array([-0.3541275 ,  0.01557329,  0.11224956, -0.1957698 ,  0.18830958,\n",
       "       -0.33208047,  0.01835336])"
      ]
     },
     "execution_count": 171,
     "metadata": {},
     "output_type": "execute_result"
    }
   ],
   "source": [
    "remainder"
   ]
  },
  {
   "cell_type": "code",
   "execution_count": 172,
   "metadata": {},
   "outputs": [
    {
     "data": {
      "text/plain": [
       "array([-2.,  3.,  1., -2.,  6., -3.,  0.])"
      ]
     },
     "execution_count": 172,
     "metadata": {},
     "output_type": "execute_result"
    }
   ],
   "source": [
    "whole_part"
   ]
  },
  {
   "cell_type": "code",
   "execution_count": 173,
   "metadata": {},
   "outputs": [
    {
     "name": "stderr",
     "output_type": "stream",
     "text": [
      "E:\\anaconda\\anacondasetup\\lib\\site-packages\\ipykernel_launcher.py:1: RuntimeWarning: invalid value encountered in sqrt\n",
      "  \"\"\"Entry point for launching an IPython kernel.\n"
     ]
    },
    {
     "data": {
      "text/plain": [
       "array([       nan, 1.73654061, 1.05463243,        nan, 2.48763132,\n",
       "              nan, 0.13547457])"
      ]
     },
     "execution_count": 173,
     "metadata": {},
     "output_type": "execute_result"
    }
   ],
   "source": [
    "np.sqrt(arr,arr)\n",
    "arr"
   ]
  },
  {
   "cell_type": "code",
   "execution_count": 176,
   "metadata": {},
   "outputs": [
    {
     "data": {
      "text/plain": [
       "array([[-5.  , -5.  , -5.  , ..., -5.  , -5.  , -5.  ],\n",
       "       [-4.99, -4.99, -4.99, ..., -4.99, -4.99, -4.99],\n",
       "       [-4.98, -4.98, -4.98, ..., -4.98, -4.98, -4.98],\n",
       "       ...,\n",
       "       [ 4.97,  4.97,  4.97, ...,  4.97,  4.97,  4.97],\n",
       "       [ 4.98,  4.98,  4.98, ...,  4.98,  4.98,  4.98],\n",
       "       [ 4.99,  4.99,  4.99, ...,  4.99,  4.99,  4.99]])"
      ]
     },
     "execution_count": 176,
     "metadata": {},
     "output_type": "execute_result"
    }
   ],
   "source": [
    "points = np.arange(-5,5,0.01)\n",
    "xs , ys =np.meshgrid(points, points)"
   ]
  },
  {
   "cell_type": "code",
   "execution_count": 177,
   "metadata": {},
   "outputs": [
    {
     "data": {
      "text/plain": [
       "array([[-5.  , -4.99, -4.98, ...,  4.97,  4.98,  4.99],\n",
       "       [-5.  , -4.99, -4.98, ...,  4.97,  4.98,  4.99],\n",
       "       [-5.  , -4.99, -4.98, ...,  4.97,  4.98,  4.99],\n",
       "       ...,\n",
       "       [-5.  , -4.99, -4.98, ...,  4.97,  4.98,  4.99],\n",
       "       [-5.  , -4.99, -4.98, ...,  4.97,  4.98,  4.99],\n",
       "       [-5.  , -4.99, -4.98, ...,  4.97,  4.98,  4.99]])"
      ]
     },
     "execution_count": 177,
     "metadata": {},
     "output_type": "execute_result"
    }
   ],
   "source": [
    "xs"
   ]
  },
  {
   "cell_type": "code",
   "execution_count": 178,
   "metadata": {},
   "outputs": [
    {
     "data": {
      "text/plain": [
       "array([[-5.  , -5.  , -5.  , ..., -5.  , -5.  , -5.  ],\n",
       "       [-4.99, -4.99, -4.99, ..., -4.99, -4.99, -4.99],\n",
       "       [-4.98, -4.98, -4.98, ..., -4.98, -4.98, -4.98],\n",
       "       ...,\n",
       "       [ 4.97,  4.97,  4.97, ...,  4.97,  4.97,  4.97],\n",
       "       [ 4.98,  4.98,  4.98, ...,  4.98,  4.98,  4.98],\n",
       "       [ 4.99,  4.99,  4.99, ...,  4.99,  4.99,  4.99]])"
      ]
     },
     "execution_count": 178,
     "metadata": {},
     "output_type": "execute_result"
    }
   ],
   "source": [
    "ys"
   ]
  },
  {
   "cell_type": "code",
   "execution_count": 188,
   "metadata": {},
   "outputs": [
    {
     "data": {
      "text/plain": [
       "array([[7.07106781, 7.06400028, 7.05693985, ..., 7.04988652, 7.05693985,\n",
       "        7.06400028],\n",
       "       [7.06400028, 7.05692568, 7.04985815, ..., 7.04279774, 7.04985815,\n",
       "        7.05692568],\n",
       "       [7.05693985, 7.04985815, 7.04278354, ..., 7.03571603, 7.04278354,\n",
       "        7.04985815],\n",
       "       ...,\n",
       "       [7.04988652, 7.04279774, 7.03571603, ..., 7.0286414 , 7.03571603,\n",
       "        7.04279774],\n",
       "       [7.05693985, 7.04985815, 7.04278354, ..., 7.03571603, 7.04278354,\n",
       "        7.04985815],\n",
       "       [7.06400028, 7.05692568, 7.04985815, ..., 7.04279774, 7.04985815,\n",
       "        7.05692568]])"
      ]
     },
     "execution_count": 188,
     "metadata": {},
     "output_type": "execute_result"
    }
   ],
   "source": [
    "z= np.sqrt( xs**2 + ys**2)\n",
    "z"
   ]
  },
  {
   "cell_type": "code",
   "execution_count": 190,
   "metadata": {},
   "outputs": [
    {
     "data": {
      "text/plain": [
       "Text(0.5, 1.0, 'Image plot of $\\\\sqrt{x^2+y^2}$ for a grid of values')"
      ]
     },
     "execution_count": 190,
     "metadata": {},
     "output_type": "execute_result"
    },
    {
     "data": {
      "image/png": "[encoded data removed]",
      "text/plain": [
       "<Figure size 432x288 with 2 Axes>"
      ]
     },
     "metadata": {
      "needs_background": "light"
     },
     "output_type": "display_data"
    }
   ],
   "source": [
    "\n",
    "import matplotlib.pyplot as plt\n",
    "plt.imshow(z,cmap=plt.cm.gray);plt.colorbar()\n",
    "plt.title(\"Image plot of $\\sqrt{x^2+y^2}$ for a grid of values\")"
   ]
  },
  {
   "cell_type": "code",
   "execution_count": 197,
   "metadata": {},
   "outputs": [
    {
     "data": {
      "text/plain": [
       "[1, 7, 3, 9, 5]"
      ]
     },
     "execution_count": 197,
     "metadata": {},
     "output_type": "execute_result"
    }
   ],
   "source": [
    "xarr = np.array([1, 2, 3,4 ,5])\n",
    "yarr = np.array([6,7,8,9,10])\n",
    "cond = np.array([True, False , True , False ,True])\n",
    "result = [(x if c else y) for x ,y ,c in zip(xarr, yarr, cond)]\n",
    "result"
   ]
  },
  {
   "cell_type": "code",
   "execution_count": 199,
   "metadata": {},
   "outputs": [
    {
     "data": {
      "text/plain": [
       "array([1, 7, 3, 9, 5])"
      ]
     },
     "execution_count": 199,
     "metadata": {},
     "output_type": "execute_result"
    }
   ],
   "source": [
    "result = np.where(cond,xarr,yarr)\n",
    "result"
   ]
  },
  {
   "cell_type": "code",
   "execution_count": 200,
   "metadata": {},
   "outputs": [
    {
     "data": {
      "text/plain": [
       "array([[ 1.6560718 , -0.30800938,  0.04470054, -0.48226648],\n",
       "       [-2.44961281,  0.18683345, -0.46434163, -1.28111959],\n",
       "       [ 1.4403045 ,  0.28576932,  0.76387131, -0.05498382],\n",
       "       [-0.20611971, -0.41078116, -0.44094562, -0.1083024 ]])"
      ]
     },
     "execution_count": 200,
     "metadata": {},
     "output_type": "execute_result"
    }
   ],
   "source": [
    "arr = np.random.randn(4,4)\n",
    "arr"
   ]
  },
  {
   "cell_type": "code",
   "execution_count": 212,
   "metadata": {},
   "outputs": [
    {
     "data": {
      "text/plain": [
       "array([[ True, False,  True, False],\n",
       "       [False,  True, False, False],\n",
       "       [ True,  True,  True, False],\n",
       "       [False, False, False, False]])"
      ]
     },
     "execution_count": 212,
     "metadata": {},
     "output_type": "execute_result"
    }
   ],
   "source": [
    "arr>0"
   ]
  },
  {
   "cell_type": "code",
   "execution_count": 213,
   "metadata": {},
   "outputs": [
    {
     "data": {
      "text/plain": [
       "array([[ 2.        , -0.30800938,  2.        , -0.48226648],\n",
       "       [-2.44961281,  2.        , -0.46434163, -1.28111959],\n",
       "       [ 2.        ,  2.        ,  2.        , -0.05498382],\n",
       "       [-0.20611971, -0.41078116, -0.44094562, -0.1083024 ]])"
      ]
     },
     "execution_count": 213,
     "metadata": {},
     "output_type": "execute_result"
    }
   ],
   "source": [
    "np.where(arr>0,2,arr)"
   ]
  },
  {
   "cell_type": "code",
   "execution_count": 215,
   "metadata": {},
   "outputs": [
    {
     "data": {
      "text/plain": [
       "array([[-1.84903696, -0.94456549,  1.0397997 ,  1.59727685],\n",
       "       [-2.28421068, -1.19480924, -0.77370388,  0.98790473],\n",
       "       [-0.91831586, -0.24581633, -0.7866759 , -0.09390098],\n",
       "       [ 1.02676496, -0.4174476 , -0.26002278, -0.89538482],\n",
       "       [ 0.12996975,  1.4219606 , -1.37237602,  0.14216074]])"
      ]
     },
     "execution_count": 215,
     "metadata": {},
     "output_type": "execute_result"
    }
   ],
   "source": [
    "arr = np.random.randn(5,4)\n",
    "arr"
   ]
  },
  {
   "cell_type": "code",
   "execution_count": 216,
   "metadata": {},
   "outputs": [
    {
     "data": {
      "text/plain": [
       "-0.28452146049043114"
      ]
     },
     "execution_count": 216,
     "metadata": {},
     "output_type": "execute_result"
    }
   ],
   "source": [
    "arr.mean()"
   ]
  },
  {
   "cell_type": "code",
   "execution_count": 217,
   "metadata": {},
   "outputs": [
    {
     "data": {
      "text/plain": [
       "-0.28452146049043114"
      ]
     },
     "execution_count": 217,
     "metadata": {},
     "output_type": "execute_result"
    }
   ],
   "source": [
    "np.mean(arr)"
   ]
  },
  {
   "cell_type": "code",
   "execution_count": 218,
   "metadata": {},
   "outputs": [
    {
     "data": {
      "text/plain": [
       "-5.690429209808623"
      ]
     },
     "execution_count": 218,
     "metadata": {},
     "output_type": "execute_result"
    }
   ],
   "source": [
    "arr.sum()"
   ]
  },
  {
   "cell_type": "code",
   "execution_count": 219,
   "metadata": {},
   "outputs": [
    {
     "data": {
      "text/plain": [
       "-5.690429209808623"
      ]
     },
     "execution_count": 219,
     "metadata": {},
     "output_type": "execute_result"
    }
   ],
   "source": [
    "np.sum(arr)"
   ]
  },
  {
   "cell_type": "code",
   "execution_count": 229,
   "metadata": {},
   "outputs": [
    {
     "data": {
      "text/plain": [
       "array([-0.77896576, -0.27613561, -0.43059577,  0.3476113 ])"
      ]
     },
     "execution_count": 229,
     "metadata": {},
     "output_type": "execute_result"
    }
   ],
   "source": [
    "arr.mean(axis=0)"
   ]
  },
  {
   "cell_type": "code",
   "execution_count": 233,
   "metadata": {},
   "outputs": [
    {
     "data": {
      "text/plain": [
       "array([0, 1, 2, 3, 4, 5, 6, 7, 8])"
      ]
     },
     "execution_count": 233,
     "metadata": {},
     "output_type": "execute_result"
    }
   ],
   "source": [
    "arr=np.arange(9)\n",
    "arr"
   ]
  },
  {
   "cell_type": "code",
   "execution_count": 234,
   "metadata": {},
   "outputs": [
    {
     "data": {
      "text/plain": [
       "array([ 0,  1,  3,  6, 10, 15, 21, 28, 36], dtype=int32)"
      ]
     },
     "execution_count": 234,
     "metadata": {},
     "output_type": "execute_result"
    }
   ],
   "source": [
    "arr.cumsum()"
   ]
  },
  {
   "cell_type": "code",
   "execution_count": 246,
   "metadata": {},
   "outputs": [
    {
     "data": {
      "text/plain": [
       "array([[0, 1, 2],\n",
       "       [3, 4, 5],\n",
       "       [6, 7, 8]])"
      ]
     },
     "execution_count": 246,
     "metadata": {},
     "output_type": "execute_result"
    }
   ],
   "source": [
    "t=arr.reshape(3,3)\n",
    "t"
   ]
  },
  {
   "cell_type": "code",
   "execution_count": 245,
   "metadata": {},
   "outputs": [
    {
     "data": {
      "text/plain": [
       "array([[ 0,  1,  2],\n",
       "       [ 3,  5,  7],\n",
       "       [ 9, 12, 15]], dtype=int32)"
      ]
     },
     "execution_count": 245,
     "metadata": {},
     "output_type": "execute_result"
    }
   ],
   "source": [
    "t.cumsum(axis=0)"
   ]
  },
  {
   "cell_type": "code",
   "execution_count": 240,
   "metadata": {},
   "outputs": [
    {
     "data": {
      "text/plain": [
       "array([[ 0,  1,  3],\n",
       "       [ 3,  7, 12],\n",
       "       [ 6, 13, 21]], dtype=int32)"
      ]
     },
     "execution_count": 240,
     "metadata": {},
     "output_type": "execute_result"
    }
   ],
   "source": [
    "t.cumsum(axis=1)"
   ]
  },
  {
   "cell_type": "code",
   "execution_count": 249,
   "metadata": {},
   "outputs": [
    {
     "data": {
      "text/plain": [
       "array([[  0,   0,   0],\n",
       "       [  3,  12,  60],\n",
       "       [  6,  42, 336]], dtype=int32)"
      ]
     },
     "execution_count": 249,
     "metadata": {},
     "output_type": "execute_result"
    }
   ],
   "source": [
    "np.cumprod(t,axis=1)"
   ]
  },
  {
   "cell_type": "code",
   "execution_count": 253,
   "metadata": {},
   "outputs": [
    {
     "data": {
      "text/plain": [
       "array([ 3.47436948e-01,  3.20087871e-01, -9.00280356e-01,  2.07770264e+00,\n",
       "       -1.95036441e-01,  4.48760974e-01,  1.30335770e+00, -6.46374674e-01,\n",
       "       -1.33727385e-01,  1.60034355e+00,  7.76703994e-01, -1.24918591e+00,\n",
       "       -1.84833714e+00, -3.14296252e-01,  5.93810818e-01, -1.14871840e+00,\n",
       "       -1.89722589e-01,  1.66828978e+00, -7.72319463e-01, -1.24807165e+00,\n",
       "        1.64945729e+00,  1.04813410e-01,  8.99230570e-01, -1.28726483e+00,\n",
       "        1.79215706e-03,  1.72507820e+00, -2.28564126e+00, -6.54626138e-01,\n",
       "        1.84416090e+00,  3.14038638e-01,  1.21636567e-01,  7.87120583e-01,\n",
       "       -7.52829714e-01,  7.06174534e-01, -1.24477301e+00, -7.48159149e-02,\n",
       "        1.20181247e+00,  7.55172488e-01, -9.69566653e-01, -4.38501210e-01,\n",
       "        1.18308865e+00, -1.62256599e+00, -5.28231413e-01,  2.21223250e+00,\n",
       "       -1.15425488e-01, -6.66241498e-02,  6.26539736e-01, -1.04376490e+00,\n",
       "       -2.05429710e-01,  7.39188618e-01,  1.72553899e+00, -7.40397080e-01,\n",
       "       -1.00471373e+00,  2.06909225e+00, -6.82496895e-01, -2.28770690e+00,\n",
       "       -3.88049411e-01, -2.28778507e-01,  1.32602807e-01, -1.45435863e+00,\n",
       "        2.26742918e+00, -5.18663888e-01, -1.48303794e-01,  6.44575423e-01,\n",
       "        8.21010370e-02, -9.23541269e-01, -1.55384720e+00,  2.33717110e-01,\n",
       "       -1.25066650e-01,  4.21495527e-01,  9.39421070e-01,  1.96203710e+00,\n",
       "       -8.54297011e-01,  8.03906203e-01,  2.49009179e-01, -1.74859287e+00,\n",
       "        1.01904141e+00, -1.88688987e+00, -7.70322928e-01,  3.49717755e-01,\n",
       "        2.10069193e+00, -3.89560154e-02, -2.34651446e+00,  7.43380557e-01,\n",
       "        2.67636440e-02,  1.51104135e+00,  1.45559235e+00, -7.27249049e-01,\n",
       "       -7.26319782e-01, -9.27667595e-01, -1.60402838e-01, -9.15398041e-01,\n",
       "        2.62592101e-02, -1.90966580e+00,  8.94900839e-01, -3.75443825e-03,\n",
       "        3.38683453e-01,  1.12071052e+00,  1.24298058e+00, -1.28032143e+00])"
      ]
     },
     "execution_count": 253,
     "metadata": {},
     "output_type": "execute_result"
    }
   ],
   "source": [
    "arr=np.random.randn(100)\n",
    "(arr>0).sum()\n",
    "arr"
   ]
  },
  {
   "cell_type": "code",
   "execution_count": 255,
   "metadata": {},
   "outputs": [
    {
     "data": {
      "text/plain": [
       "True"
      ]
     },
     "execution_count": 255,
     "metadata": {},
     "output_type": "execute_result"
    }
   ],
   "source": [
    "np.any(arr>0)"
   ]
  },
  {
   "cell_type": "code",
   "execution_count": 256,
   "metadata": {},
   "outputs": [
    {
     "data": {
      "text/plain": [
       "False"
      ]
     },
     "execution_count": 256,
     "metadata": {},
     "output_type": "execute_result"
    }
   ],
   "source": [
    "np.all(arr>0)"
   ]
  },
  {
   "cell_type": "code",
   "execution_count": 258,
   "metadata": {},
   "outputs": [
    {
     "data": {
      "text/plain": [
       "True"
      ]
     },
     "execution_count": 258,
     "metadata": {},
     "output_type": "execute_result"
    }
   ],
   "source": [
    "(arr>0).any()"
   ]
  },
  {
   "cell_type": "code",
   "execution_count": 260,
   "metadata": {},
   "outputs": [
    {
     "data": {
      "text/plain": [
       "False"
      ]
     },
     "execution_count": 260,
     "metadata": {},
     "output_type": "execute_result"
    }
   ],
   "source": [
    "(arr>0).all()"
   ]
  },
  {
   "cell_type": "code",
   "execution_count": 262,
   "metadata": {},
   "outputs": [
    {
     "data": {
      "text/plain": [
       "array([ 1.12316139, -2.22687792, -0.13648083, -1.04900827, -1.48535987,\n",
       "        0.49180108])"
      ]
     },
     "execution_count": 262,
     "metadata": {},
     "output_type": "execute_result"
    }
   ],
   "source": [
    "arr = np.random.randn(6)\n",
    "arr"
   ]
  },
  {
   "cell_type": "raw",
   "metadata": {},
   "source": []
  },
  {
   "cell_type": "code",
   "execution_count": 264,
   "metadata": {},
   "outputs": [
    {
     "data": {
      "text/plain": [
       "array([-2.22687792, -1.48535987, -1.04900827, -0.13648083,  0.49180108,\n",
       "        1.12316139])"
      ]
     },
     "execution_count": 264,
     "metadata": {},
     "output_type": "execute_result"
    }
   ],
   "source": [
    "arr.sort()\n",
    "arr"
   ]
  },
  {
   "cell_type": "code",
   "execution_count": 272,
   "metadata": {},
   "outputs": [
    {
     "data": {
      "text/plain": [
       "array([[0.34412476, 0.35798716, 0.15629619],\n",
       "       [0.72361261, 0.37002814, 0.95388389],\n",
       "       [0.37599625, 0.77883461, 0.34697618],\n",
       "       [0.11230286, 0.58899994, 0.81794081],\n",
       "       [0.95188881, 0.35103321, 0.79255133]])"
      ]
     },
     "execution_count": 272,
     "metadata": {},
     "output_type": "execute_result"
    }
   ],
   "source": [
    "arr= np.random.rand(5,3)\n",
    "arr"
   ]
  },
  {
   "cell_type": "code",
   "execution_count": 269,
   "metadata": {},
   "outputs": [
    {
     "data": {
      "text/plain": [
       "array([[0.15380997, 0.26633316, 0.77837105],\n",
       "       [0.5015142 , 0.57987178, 0.60554934],\n",
       "       [0.44712138, 0.52287413, 0.59158436],\n",
       "       [0.0526691 , 0.31976924, 0.40404856],\n",
       "       [0.11945234, 0.90567236, 0.99511493]])"
      ]
     },
     "execution_count": 269,
     "metadata": {},
     "output_type": "execute_result"
    }
   ],
   "source": [
    "arr.sort(1)\n",
    "arr"
   ]
  },
  {
   "cell_type": "code",
   "execution_count": 271,
   "metadata": {},
   "outputs": [
    {
     "data": {
      "text/plain": [
       "array([[0.0526691 , 0.26633316, 0.40404856],\n",
       "       [0.11945234, 0.31976924, 0.59158436],\n",
       "       [0.15380997, 0.52287413, 0.60554934],\n",
       "       [0.44712138, 0.57987178, 0.77837105],\n",
       "       [0.5015142 , 0.90567236, 0.99511493]])"
      ]
     },
     "execution_count": 271,
     "metadata": {},
     "output_type": "execute_result"
    }
   ],
   "source": [
    "arr.sort(0)\n",
    "arr"
   ]
  },
  {
   "cell_type": "code",
   "execution_count": 273,
   "metadata": {},
   "outputs": [
    {
     "data": {
      "text/plain": [
       "array([[0.11230286, 0.35103321, 0.15629619],\n",
       "       [0.34412476, 0.35798716, 0.34697618],\n",
       "       [0.37599625, 0.37002814, 0.79255133],\n",
       "       [0.72361261, 0.58899994, 0.81794081],\n",
       "       [0.95188881, 0.77883461, 0.95388389]])"
      ]
     },
     "execution_count": 273,
     "metadata": {},
     "output_type": "execute_result"
    }
   ],
   "source": [
    "np.sort(arr,axis=0)"
   ]
  },
  {
   "cell_type": "code",
   "execution_count": 276,
   "metadata": {},
   "outputs": [
    {
     "data": {
      "text/plain": [
       "array([ 3.34856829e-01, -3.71349316e-01,  7.34633492e-01,  2.53005447e+00,\n",
       "       -1.48297477e+00, -3.92136594e-01, -6.81368896e-01,  3.79574598e-01,\n",
       "        9.01775300e-02, -7.36418402e-01,  1.01704398e+00, -6.83679795e-01,\n",
       "       -1.96972456e+00,  6.23854875e-01, -5.99584809e-01, -3.32545379e-01,\n",
       "       -2.56033130e+00,  1.36597546e-01, -1.12656969e+00, -5.88781835e-02,\n",
       "        1.41073485e+00, -1.92831803e-01, -1.34220473e+00, -5.82728761e-01,\n",
       "        1.44653168e-01,  1.44017442e+00, -1.60428026e+00,  1.36852189e+00,\n",
       "       -1.03026830e+00,  5.07068779e-01,  2.07302762e-01,  6.27745854e-01,\n",
       "        6.93631936e-01, -8.71578506e-01, -1.35478769e+00, -6.00526919e-01,\n",
       "        3.31736923e-01,  1.11919848e+00,  1.35942396e+00, -1.84177892e+00,\n",
       "       -1.42892485e+00,  8.27081053e-01, -2.39192857e+00, -9.32209240e-02,\n",
       "        2.37404291e+00,  5.17848973e-02, -1.19717179e-01,  5.31137104e-01,\n",
       "       -8.93582339e-01, -1.46297114e-01,  1.20417447e+00,  2.44052635e+00,\n",
       "        9.70421149e-01,  7.54039787e-02,  5.31575559e-01,  1.36309665e+00,\n",
       "       -8.75544313e-01, -1.68185829e+00, -6.89726251e-01,  3.43099780e-01,\n",
       "       -1.34382889e+00, -1.03073749e+00,  4.07233463e-01, -4.77011626e-01,\n",
       "       -1.09019347e+00, -7.79523217e-01, -9.88352432e-01, -1.12723014e+00,\n",
       "       -8.23598549e-01, -1.10569026e+00, -1.06643676e+00,  9.63103711e-01,\n",
       "       -1.13421314e+00, -1.93345290e+00,  3.18376653e-01,  1.24309456e+00,\n",
       "        1.60725808e+00, -2.13798343e+00,  6.50817603e-01, -2.20536386e-01,\n",
       "       -3.85156854e-01,  8.52549860e-02, -1.09638138e+00, -6.13421227e-01,\n",
       "       -1.79595616e+00,  1.86744989e+00,  9.28876626e-01,  7.56583749e-01,\n",
       "       -3.24887169e-01, -2.87080820e-01, -1.11954009e+00, -7.55506463e-01,\n",
       "        6.82430071e-01,  1.24307752e+00, -1.63524800e-01,  7.86329491e-01,\n",
       "       -6.79364726e-01, -8.08577865e-01,  4.28456728e-01, -2.92886254e-01,\n",
       "        5.72956712e-01,  9.21832419e-01, -1.35546471e+00,  5.32585744e-01,\n",
       "       -3.23669315e-01,  2.78330726e-01, -1.87433310e-01,  3.92490908e-01,\n",
       "        6.85996570e-01,  4.70627418e-01,  1.48862240e+00,  1.71783467e+00,\n",
       "        2.93416004e-01,  4.62857971e-01,  9.00254925e-01,  1.09690269e+00,\n",
       "        6.56989155e-01, -2.21302542e-01, -2.63883619e-01, -4.42063606e-01,\n",
       "        1.25318092e-01,  6.32610319e-01, -1.42908512e+00, -5.57896582e-01,\n",
       "       -9.17450361e-01, -2.04135622e+00, -1.29756331e-01, -1.46593500e+00,\n",
       "        9.36877158e-01,  7.23911895e-01, -1.15167027e+00, -1.80669412e-01,\n",
       "        4.41824805e-01, -9.04260456e-01, -8.71716904e-01, -6.27704121e-01,\n",
       "        1.61488956e+00,  1.81031829e+00,  7.13118379e-01,  2.07412880e-01,\n",
       "        2.03963328e+00, -5.17663111e-01,  2.31433421e-01,  2.34138144e+00,\n",
       "       -5.80015248e-01, -6.71741962e-03,  8.85233348e-01, -2.15308514e+00,\n",
       "       -8.41898340e-01,  4.25526569e-01, -6.76162340e-01, -1.28473748e+00,\n",
       "       -1.01752071e-01,  9.86346091e-01,  3.35195662e-02,  2.89497348e-01,\n",
       "        1.07111851e+00, -5.33249157e-01, -1.29721695e+00, -1.78569483e+00,\n",
       "       -1.08822444e-01, -5.59538737e-01,  5.78260944e-01, -1.80531643e+00,\n",
       "        7.31324430e-01, -1.76737726e-01,  1.78307615e-01,  2.82635191e+00,\n",
       "       -2.51171915e+00, -4.41540190e-01,  2.05237506e+00, -7.28313282e-01,\n",
       "        4.76800177e-02, -7.79023478e-01,  1.68210836e+00, -8.03445559e-01,\n",
       "       -1.70191819e+00,  8.95419915e-02,  6.96879493e-01,  8.81288897e-01,\n",
       "        3.75600112e-01, -6.92446614e-01, -5.07185798e-02,  1.45344734e+00,\n",
       "       -8.48299766e-01, -4.37350976e-01,  4.59001789e-01,  4.41174119e-01,\n",
       "        9.14027991e-01, -7.22383544e-01, -1.09023204e+00,  2.79767979e-01,\n",
       "       -8.04147160e-01,  1.02848101e+00,  7.81615664e-01,  8.82841807e-01,\n",
       "        1.19782383e-01, -1.68679404e+00, -3.65094839e-01,  3.04829747e+00,\n",
       "       -6.26338919e-01,  2.83139635e-01, -1.33707713e+00,  2.22047590e+00,\n",
       "       -1.29495616e+00, -1.73957690e-01, -1.42689496e+00,  1.24112046e+00,\n",
       "        2.33882054e+00, -9.93308912e-01, -2.20558219e-01,  1.41562387e+00,\n",
       "        1.35361341e+00,  5.97489985e-01,  2.15885642e-01,  4.09835500e-01,\n",
       "        5.86169469e-01,  1.64419530e-01,  9.50302958e-01,  4.10059858e-02,\n",
       "       -1.40094062e+00,  1.18440840e-02,  8.72790549e-01, -7.81380780e-02,\n",
       "       -8.94520260e-01, -1.65157873e-01, -5.96587062e-01,  1.11584009e-01,\n",
       "       -1.70821394e+00, -1.22670353e-01,  2.33628628e+00, -1.10165029e+00,\n",
       "       -1.44162987e+00,  7.38625608e-01, -2.27154413e-01,  7.47121206e-01,\n",
       "       -2.53009536e-01,  9.68364923e-01, -1.12645688e+00,  9.25143968e-01,\n",
       "        7.40030898e-01, -2.06711851e-01,  9.22123037e-01, -4.30093860e-01,\n",
       "       -4.69023073e-01, -1.80157730e+00, -8.66218044e-01,  1.40793549e+00,\n",
       "        4.19324570e-01, -9.40960917e-01,  7.73684513e-01, -4.00086667e-02,\n",
       "        3.17980129e-01,  1.26088580e+00, -1.23099885e-01,  8.94252036e-01,\n",
       "        4.36549339e-01,  2.37750887e-01,  5.70029971e-01, -1.56776685e-01,\n",
       "       -2.07293170e-01,  1.46952077e+00, -3.44136391e-01,  1.82586043e+00,\n",
       "        5.61303797e-01, -1.22465929e+00, -1.21318932e-02,  1.91877983e+00,\n",
       "        4.02419743e-01,  6.26039080e-01, -4.88884569e-01,  7.90142944e-01,\n",
       "        2.60473233e-01, -4.21616081e-02, -3.89960488e-01,  8.24744370e-01,\n",
       "       -3.66463984e-01,  1.06782815e+00,  3.38214025e-01, -6.42836886e-01,\n",
       "       -1.26014945e+00, -6.08967323e-02,  3.31487183e-01, -6.48575188e-01,\n",
       "       -2.31551004e+00, -6.80064833e-01, -1.45478113e+00, -8.22238678e-01,\n",
       "        5.30583925e-01, -1.60590461e-01,  1.52365181e+00, -4.03980606e-01,\n",
       "        5.65775641e-02, -9.37221404e-01,  5.90794378e-01,  1.04024398e+00,\n",
       "       -1.47045008e-01, -4.25028087e-01, -1.66506681e+00, -9.40492037e-01,\n",
       "        7.08752192e-01, -1.26544053e+00,  2.09813514e-02, -4.80366420e-01,\n",
       "        6.20473381e-03, -4.66889087e-01,  2.44807302e-01, -3.78998904e-01,\n",
       "       -4.31702617e-01,  1.21315717e+00, -1.09696572e+00, -6.37828172e-01,\n",
       "       -2.60460631e-01,  2.66718558e-01,  6.64635435e-01, -1.42159708e+00,\n",
       "       -4.43885845e-01,  1.37570854e+00,  5.90341492e-01,  1.00214767e+00,\n",
       "       -1.41263641e+00, -1.71882603e-01, -3.77342777e-01,  1.23536489e+00,\n",
       "       -1.46609940e-01, -6.96023173e-01,  6.05634422e-01,  1.23196410e+00,\n",
       "        4.78998109e-01,  1.85635149e-02,  9.24671610e-01, -6.72760747e-01,\n",
       "        1.04435794e+00, -1.45566014e-01, -7.74670601e-02,  7.86649754e-01,\n",
       "       -2.27075672e-01,  3.64111465e-01, -2.04154731e-01,  3.31813251e-01,\n",
       "        5.83932298e-02, -3.02266043e-01,  4.92340720e-01,  1.79951545e+00,\n",
       "        1.05845116e+00, -8.59316065e-01,  2.31065451e+00,  1.50032541e-01,\n",
       "       -1.94747910e+00, -1.68653578e+00,  7.45185250e-01, -6.03563766e-01,\n",
       "       -1.65656631e+00,  8.91805155e-02, -1.97868114e-01, -6.06301400e-01,\n",
       "       -7.22878479e-01, -1.63136071e+00,  6.08433494e-01, -7.31152396e-01,\n",
       "       -2.15143682e-01,  1.11622632e+00,  9.27751635e-01, -5.29194845e-01,\n",
       "       -6.44137409e-01,  3.62077502e-01, -1.05544655e-01,  5.81541225e-01,\n",
       "        8.65391589e-01, -7.49121160e-01, -7.65011604e-01,  6.20021357e-01,\n",
       "        8.18585642e-01, -4.63928101e-01,  3.60369496e+00, -3.95154016e-01,\n",
       "       -1.29560107e+00,  1.98154579e+00, -1.03392791e+00,  1.50775367e-01,\n",
       "        1.95226071e+00,  1.21088882e+00,  2.63713532e-02,  5.86907785e-01,\n",
       "        2.02322502e+00, -1.40741665e-01,  5.01980026e-01,  3.20491722e-01,\n",
       "       -8.26515263e-01,  1.06573130e-01,  9.45830485e-02, -9.22983979e-01,\n",
       "       -8.64333197e-01, -4.04335373e-01,  2.24164607e-01, -7.68700557e-01,\n",
       "        5.89480633e-01,  3.23492461e-01, -2.51558339e-01,  4.70877066e-01,\n",
       "       -8.87082372e-01, -8.87820440e-01, -1.97721497e-01,  1.11784840e+00,\n",
       "       -4.05026463e-01, -1.16772846e+00,  2.90611893e-01, -2.11106212e-01,\n",
       "        1.04904871e+00,  4.41045572e-01, -1.85186906e-01, -1.63880167e+00,\n",
       "        5.20328191e-01,  3.18628775e-01, -1.44385058e+00, -4.47078837e-01,\n",
       "        8.13776588e-02,  8.69519079e-01,  1.44967308e-01,  4.98985917e-01,\n",
       "        9.20034537e-01, -1.32836590e+00,  1.17368664e+00,  5.34505207e-01,\n",
       "        2.58750701e-01, -1.01065654e-01, -1.65693099e+00, -1.13524634e+00,\n",
       "       -3.86566632e-01, -1.45686604e+00, -2.99339340e-01, -1.09361954e+00,\n",
       "       -7.66714827e-01, -3.79025665e-01,  5.68376418e-01,  8.04507887e-01,\n",
       "        2.25032033e+00, -1.85174356e+00, -1.66218853e-02,  1.66317025e+00,\n",
       "        1.48802376e+00, -8.17141120e-01,  8.33398824e-01, -1.12185373e+00,\n",
       "        6.02928432e-01, -4.31595415e-01,  1.11558324e+00, -1.35819658e+00,\n",
       "        8.51655865e-01,  1.02523607e+00, -5.65492097e-03, -1.57126040e+00,\n",
       "       -3.06332857e-01,  2.26342113e+00, -1.54339303e+00,  6.22779505e-01,\n",
       "       -5.89854907e-01,  6.27820737e-01, -1.10225778e+00,  5.41794124e-01,\n",
       "       -1.21761694e+00,  2.00659355e-01, -5.67486586e-01, -7.73123914e-01,\n",
       "        8.78436666e-01,  6.17899529e-01, -4.13872148e-01,  6.00247673e-01,\n",
       "        3.26412218e-01,  3.52765367e-01,  1.05424614e+00,  1.67460106e+00,\n",
       "        1.37315204e-01, -1.18233716e+00,  7.46262493e-01, -2.12877619e+00,\n",
       "        1.07683177e-01, -8.15930079e-01, -2.86350424e+00, -1.18018142e-01,\n",
       "        5.68074465e-01, -1.04115409e+00, -9.80379531e-01, -3.89656183e-01,\n",
       "        5.57421322e-01, -4.42889279e-01, -2.59352616e-01, -1.01486104e+00,\n",
       "       -2.28715503e-01,  1.31425608e+00, -2.30347210e+00,  1.04008074e+00,\n",
       "        1.42578903e+00, -2.65926961e-01,  2.71628515e-01,  1.58946026e-01,\n",
       "        9.52185679e-01, -1.30807314e+00, -1.26072974e+00, -1.62675165e+00,\n",
       "       -2.17534034e+00, -4.43838897e-01,  8.63164317e-01, -1.21873223e+00,\n",
       "       -2.20561016e+00, -5.51023578e-01,  1.50424620e+00,  1.07544366e+00,\n",
       "       -7.74094162e-01,  1.55090497e+00,  1.09144231e+00,  1.28818156e-01,\n",
       "       -1.60241180e-01,  4.41511783e-02,  2.50443654e-01,  1.48891540e-01,\n",
       "        4.09718336e-01,  4.56274504e-01, -4.22108966e-01, -1.65659029e+00,\n",
       "       -2.27183446e-01,  3.16385263e-01, -8.43191541e-01,  4.94266247e-01,\n",
       "        1.11481616e+00, -3.60530497e-01,  1.56491942e+00,  3.64402493e-01,\n",
       "       -1.45145753e-01,  6.61430574e-02,  6.89065445e-02,  1.29826041e+00,\n",
       "        6.32047963e-01, -1.26205684e-01,  5.46232900e-01, -1.00567498e+00,\n",
       "        1.88647016e-01, -1.43015113e+00, -4.43517750e-01,  2.66282761e-01,\n",
       "        1.66373490e+00, -1.62467883e-01,  6.03831843e-01, -9.11553058e-01,\n",
       "       -1.12514865e+00, -2.22001450e-01,  1.08128777e+00, -9.76784804e-01,\n",
       "       -7.63317844e-01,  1.23913995e+00, -1.21862732e+00,  1.03886408e+00,\n",
       "        1.79027340e-01,  4.88563296e-01, -1.01166545e+00, -1.88106487e+00,\n",
       "       -1.25869022e+00, -9.56738667e-01, -1.89063920e+00, -7.30370980e-01,\n",
       "        1.80391755e+00, -2.33692924e+00, -9.23942757e-01,  8.08160153e-01,\n",
       "       -1.23207304e+00, -1.48839161e+00,  8.99442418e-01, -5.94285260e-01,\n",
       "       -1.43145939e+00,  1.13312691e+00, -1.60656377e+00,  3.53973316e-02,\n",
       "       -1.36601967e+00, -6.52583750e-01, -1.88608846e+00,  5.82398061e-03,\n",
       "       -1.20889166e+00, -3.10954346e-01,  9.75244276e-01,  1.30368150e+00,\n",
       "       -1.51612933e+00,  1.25343508e+00,  8.78577077e-02, -5.68922711e-01,\n",
       "        8.35333840e-01,  6.84391925e-01, -1.76127288e+00,  9.81381889e-01,\n",
       "        2.28877443e+00,  8.11449092e-01, -6.98502547e-01, -1.09893747e+00,\n",
       "       -6.96209287e-01,  6.54040998e-01,  1.09417541e+00, -1.36953359e-01,\n",
       "       -5.60297327e-01,  1.75616829e+00, -5.73345223e-01,  3.74804835e-01,\n",
       "        1.11685560e-01,  6.14704586e-02, -8.90380145e-01,  1.74196115e-01,\n",
       "        8.49922457e-01,  5.42527528e-01, -1.01907913e-01, -6.85692855e-01,\n",
       "        3.40435434e-01,  2.74895379e-01,  1.05041905e+00,  1.84674617e+00,\n",
       "       -1.18267693e+00,  1.66022174e+00, -9.63336092e-01,  1.33569231e+00,\n",
       "        5.67908816e-01,  1.54438091e+00, -1.04138630e+00,  4.42383624e-01,\n",
       "       -6.04810430e-01, -4.07744432e-01, -2.07472859e-01, -5.57990161e-01,\n",
       "        9.17114538e-01, -9.13752631e-01,  1.79611501e+00, -1.09323929e+00,\n",
       "        2.08508783e+00,  8.64721217e-01, -5.65584958e-01, -8.91385443e-01,\n",
       "        7.39149313e-02,  2.80417599e-01, -3.18803897e-01,  7.06317070e-01,\n",
       "       -1.30386262e+00, -1.55733961e+00, -7.54021994e-01,  6.66758546e-01,\n",
       "       -9.40171439e-01,  2.55422399e-01,  8.47960330e-01,  9.21812700e-01,\n",
       "       -5.62974366e-01, -1.01726276e+00, -1.20467520e+00,  4.66127498e-01,\n",
       "       -8.07294145e-01,  6.29161838e-04,  1.74663430e+00,  7.70025599e-01,\n",
       "       -5.63875217e-02, -1.16135051e+00, -1.73682886e-01, -4.02708462e-01,\n",
       "        1.15866259e+00,  1.07992477e+00, -4.97241402e-01, -8.26263696e-01,\n",
       "       -1.57050659e+00,  1.02221407e-01,  1.17075169e-01, -2.47594043e+00,\n",
       "       -3.25113595e-01, -2.21121067e-01,  6.43374085e-01,  3.36452343e-01,\n",
       "       -7.70223404e-01, -8.10879275e-01,  2.97532777e-01, -7.29383802e-01,\n",
       "        4.06396504e-01,  8.75669442e-01, -2.70736973e-01, -4.54621785e-01,\n",
       "       -8.41449317e-01, -5.97045659e-01, -1.22907779e+00, -6.39251274e-01,\n",
       "        3.08085744e-02, -1.16632834e+00, -1.61703149e-01, -8.66665227e-01,\n",
       "       -2.77582948e-01, -1.73055485e-01,  3.92392681e-01,  2.32039687e-01,\n",
       "       -5.43792191e-01, -4.16495334e-01,  3.87763525e-02, -2.80021607e-01,\n",
       "        1.30391510e+00,  1.08627535e+00, -9.33500710e-02,  9.39424202e-01,\n",
       "       -2.14221027e-01,  1.54692097e+00, -5.75859380e-01, -1.40517978e+00,\n",
       "       -8.20693139e-01,  3.17384629e-01, -9.69868702e-01,  1.60607520e+00,\n",
       "        4.35629461e-02,  1.23139678e+00, -8.03543199e-01, -1.03230593e+00,\n",
       "       -2.33558598e+00, -4.28568153e-01, -9.76079653e-01,  5.60894823e-01,\n",
       "        8.73043265e-02, -3.07868585e-01, -1.26929014e+00, -3.06263304e-01,\n",
       "       -4.13334094e-01, -4.09134870e-01, -3.30869981e-01, -5.00544926e-01,\n",
       "       -3.27084964e-01,  1.46962897e+00, -1.25941734e+00,  3.36231663e-01,\n",
       "       -7.59003240e-01,  4.31708189e-01, -7.86625457e-01,  1.37268351e+00,\n",
       "        1.31585010e-01, -4.10560480e-01,  8.69532979e-01, -2.42440981e-01,\n",
       "       -2.00762071e-01,  1.20657080e-01, -6.86837559e-01,  4.16689253e-01,\n",
       "       -3.28240615e-01, -1.64097720e+00, -1.80409745e-01, -5.93496875e-01,\n",
       "       -6.60248439e-01, -9.32942129e-01, -6.46643514e-02, -1.64340414e+00,\n",
       "        6.26849800e-01,  5.08181612e-02,  1.01882554e+00, -1.26671359e+00,\n",
       "       -3.96715255e-01, -6.50418089e-01, -9.56710658e-02,  6.69179144e-02,\n",
       "       -1.13954159e+00,  9.84017345e-01,  2.04067912e+00, -3.07016562e-02,\n",
       "        2.64747849e-02,  1.38679781e-03, -4.67851161e-01,  5.95984772e-01,\n",
       "       -1.54300506e+00,  2.60798229e-01, -3.89581215e-01, -5.55955972e-01,\n",
       "        4.85724349e-01,  3.40438754e+00,  4.08044297e-01,  6.60743357e-01,\n",
       "       -1.25520799e+00,  2.08367055e+00,  1.06451371e+00, -2.92376076e-01,\n",
       "       -6.84468060e-02,  1.93851063e+00,  2.02149217e-01,  5.82098218e-01,\n",
       "        1.32442263e+00, -1.85623713e+00, -6.91601032e-01,  3.41088211e-01,\n",
       "        1.17158903e-01,  1.22210235e+00, -8.93315574e-02,  9.43461269e-01,\n",
       "       -5.65346700e-01, -1.16140705e-01, -6.86327940e-01, -2.96705122e-01,\n",
       "       -2.03687739e+00,  2.45192548e+00,  1.91581552e+00, -4.49450777e-01,\n",
       "       -3.19032476e-01,  7.48958993e-02, -1.84689405e+00, -1.32603249e-01,\n",
       "        8.86383628e-01, -1.64531086e-01, -2.57093862e-01, -1.65868023e-02,\n",
       "        7.98536261e-01, -6.40177847e-01,  8.11163347e-01, -1.53250684e-01,\n",
       "       -2.46356682e-01,  8.55861863e-01, -1.16939924e+00,  9.07262665e-02,\n",
       "       -5.80130448e-01,  8.63919022e-01,  1.11269976e+00,  1.58278438e-01,\n",
       "       -1.86468392e+00,  4.63893587e-01, -2.17345021e+00, -2.22483050e+00,\n",
       "       -1.22819724e+00, -4.36644273e-01, -3.55409147e-01, -8.33336146e-01,\n",
       "       -3.19899696e-01, -5.54103169e-01, -1.78307388e-01,  3.37924894e-02,\n",
       "        1.04076169e+00,  8.61534919e-01, -1.58479575e-01, -1.51907175e-01,\n",
       "        5.85545677e-01, -3.06682236e-01,  4.49549224e-01, -1.16431913e+00,\n",
       "        2.43353402e-01,  7.08598877e-01,  2.18087817e+00, -2.08081644e+00,\n",
       "        6.93771595e-01,  3.27160475e-01,  7.31611673e-01,  9.13817046e-01,\n",
       "       -1.44073554e-01, -1.02155477e-01,  1.94533258e+00, -1.20736141e+00,\n",
       "        1.14554553e-01, -8.77044975e-01, -1.88793858e-01,  1.73815474e+00,\n",
       "       -8.01244400e-01,  8.90977376e-02,  5.08402384e-01,  4.19372167e-01,\n",
       "        8.68904393e-01,  1.03959069e+00, -4.66639934e-01,  1.12914327e+00,\n",
       "       -6.17034067e-01,  2.52332844e-01, -2.85359501e-01, -4.14342315e-01,\n",
       "        7.18645054e-01,  7.21031192e-02, -7.69384595e-01, -1.57033229e+00,\n",
       "       -5.10796824e-01, -3.26288801e-01, -6.31266476e-02,  2.53559338e-01,\n",
       "        8.30605063e-01, -5.22441639e-01,  3.22465194e-01,  5.08636420e-01,\n",
       "       -1.74636194e+00, -4.15974114e-01, -1.31213203e+00,  1.56168865e-01,\n",
       "       -2.58678906e-01,  8.60058624e-01,  6.82374846e-01, -4.67921739e-01,\n",
       "        3.50017313e-01,  2.91651422e-01, -8.95924523e-01, -8.00365132e-01,\n",
       "       -1.41342836e+00, -7.10085101e-01, -1.39143400e+00, -3.01948946e-01,\n",
       "        4.04198784e-01,  2.08326610e+00,  6.25555148e-01,  1.16475034e+00,\n",
       "        4.58208815e-01,  2.06185585e+00, -7.43329913e-02, -9.02472264e-02,\n",
       "        7.00349587e-01, -2.90627574e-02, -2.48169465e+00, -7.54837330e-01,\n",
       "        1.24288229e-01,  1.81658745e+00, -1.65556312e+00,  7.87350173e-01,\n",
       "        8.44438575e-01, -1.42678385e+00, -1.23107418e+00,  5.74294583e-01,\n",
       "       -5.79454258e-01,  6.40322733e-01, -5.62495858e-01,  8.04880532e-01,\n",
       "       -1.07902514e+00,  1.14448211e+00,  1.52375389e+00,  2.29843670e-01,\n",
       "        8.08959767e-02, -1.12692597e+00,  1.52340995e+00,  9.81562189e-01,\n",
       "        1.38808186e+00, -2.73091445e-01,  2.89349615e-01, -1.10694714e+00,\n",
       "       -1.65945735e+00,  8.28281043e-01, -1.55057653e+00,  1.43732722e+00,\n",
       "        4.60446566e-01,  1.06467527e+00, -9.55913078e-01,  3.08830175e-01,\n",
       "       -5.14830418e-01,  1.16246248e+00,  1.04053439e+00,  1.36356364e+00,\n",
       "       -4.72942619e-01, -3.09625277e-01, -5.59079849e-01,  9.82853566e-01,\n",
       "       -3.06823510e-01,  2.20662280e-02, -1.15053351e+00,  1.42925506e+00,\n",
       "       -5.58392498e-01,  4.98820435e-01,  6.70240396e-01, -5.51524002e-01,\n",
       "       -1.62268857e+00, -9.59677487e-01,  1.69773529e-01,  1.18366408e+00,\n",
       "       -2.59224013e+00, -1.03197438e+00,  4.62159853e-01, -2.74998870e-01,\n",
       "       -1.95829744e+00, -1.18582281e+00,  9.09172378e-01, -8.89209882e-01,\n",
       "        9.08527940e-01,  6.99239227e-02,  7.09796855e-01, -1.60163662e-01,\n",
       "       -1.44029449e+00,  1.19640462e+00,  1.58747081e-01, -2.63133537e-01,\n",
       "        5.37281565e-01, -1.03425279e+00,  1.64066406e-01,  5.61207229e-01,\n",
       "       -1.54006964e+00,  9.21596999e-02,  1.50764756e+00,  1.02842186e+00,\n",
       "       -1.52341187e+00,  5.88802441e-01,  9.69669720e-01, -2.19835548e+00,\n",
       "       -1.64606226e+00,  3.69971453e-01,  2.25131184e+00,  9.62319554e-01,\n",
       "       -1.89176854e-01,  7.40258078e-01,  8.27155740e-01,  5.38994033e-01,\n",
       "       -9.51112914e-01,  1.83982649e+00,  1.68573317e+00, -9.62300113e-01,\n",
       "        6.50296107e-01,  1.24896150e+00, -1.29274234e+00, -3.61180731e-02,\n",
       "       -1.81866731e+00, -4.78439081e-02, -1.03388642e+00, -1.15432402e+00])"
      ]
     },
     "execution_count": 276,
     "metadata": {},
     "output_type": "execute_result"
    }
   ],
   "source": [
    "large_arr = np.random.randn(1000)\n",
    "large_arr\n"
   ]
  },
  {
   "cell_type": "code",
   "execution_count": 277,
   "metadata": {},
   "outputs": [],
   "source": [
    "large_arr.sort()"
   ]
  },
  {
   "cell_type": "code",
   "execution_count": 278,
   "metadata": {},
   "outputs": [
    {
     "data": {
      "text/plain": [
       "array([-2.86350424e+00, -2.59224013e+00, -2.56033130e+00, -2.51171915e+00,\n",
       "       -2.48169465e+00, -2.47594043e+00, -2.39192857e+00, -2.33692924e+00,\n",
       "       -2.33558598e+00, -2.31551004e+00, -2.30347210e+00, -2.22483050e+00,\n",
       "       -2.20561016e+00, -2.19835548e+00, -2.17534034e+00, -2.17345021e+00,\n",
       "       -2.15308514e+00, -2.13798343e+00, -2.12877619e+00, -2.08081644e+00,\n",
       "       -2.04135622e+00, -2.03687739e+00, -1.96972456e+00, -1.95829744e+00,\n",
       "       -1.94747910e+00, -1.93345290e+00, -1.89063920e+00, -1.88608846e+00,\n",
       "       -1.88106487e+00, -1.86468392e+00, -1.85623713e+00, -1.85174356e+00,\n",
       "       -1.84689405e+00, -1.84177892e+00, -1.81866731e+00, -1.80531643e+00,\n",
       "       -1.80157730e+00, -1.79595616e+00, -1.78569483e+00, -1.76127288e+00,\n",
       "       -1.74636194e+00, -1.70821394e+00, -1.70191819e+00, -1.68679404e+00,\n",
       "       -1.68653578e+00, -1.68185829e+00, -1.66506681e+00, -1.65945735e+00,\n",
       "       -1.65693099e+00, -1.65659029e+00, -1.65656631e+00, -1.65556312e+00,\n",
       "       -1.64606226e+00, -1.64340414e+00, -1.64097720e+00, -1.63880167e+00,\n",
       "       -1.63136071e+00, -1.62675165e+00, -1.62268857e+00, -1.60656377e+00,\n",
       "       -1.60428026e+00, -1.57126040e+00, -1.57050659e+00, -1.57033229e+00,\n",
       "       -1.55733961e+00, -1.55057653e+00, -1.54339303e+00, -1.54300506e+00,\n",
       "       -1.54006964e+00, -1.52341187e+00, -1.51612933e+00, -1.48839161e+00,\n",
       "       -1.48297477e+00, -1.46593500e+00, -1.45686604e+00, -1.45478113e+00,\n",
       "       -1.44385058e+00, -1.44162987e+00, -1.44029449e+00, -1.43145939e+00,\n",
       "       -1.43015113e+00, -1.42908512e+00, -1.42892485e+00, -1.42689496e+00,\n",
       "       -1.42678385e+00, -1.42159708e+00, -1.41342836e+00, -1.41263641e+00,\n",
       "       -1.40517978e+00, -1.40094062e+00, -1.39143400e+00, -1.36601967e+00,\n",
       "       -1.35819658e+00, -1.35546471e+00, -1.35478769e+00, -1.34382889e+00,\n",
       "       -1.34220473e+00, -1.33707713e+00, -1.32836590e+00, -1.31213203e+00,\n",
       "       -1.30807314e+00, -1.30386262e+00, -1.29721695e+00, -1.29560107e+00,\n",
       "       -1.29495616e+00, -1.29274234e+00, -1.28473748e+00, -1.26929014e+00,\n",
       "       -1.26671359e+00, -1.26544053e+00, -1.26072974e+00, -1.26014945e+00,\n",
       "       -1.25941734e+00, -1.25869022e+00, -1.25520799e+00, -1.23207304e+00,\n",
       "       -1.23107418e+00, -1.22907779e+00, -1.22819724e+00, -1.22465929e+00,\n",
       "       -1.21873223e+00, -1.21862732e+00, -1.21761694e+00, -1.20889166e+00,\n",
       "       -1.20736141e+00, -1.20467520e+00, -1.18582281e+00, -1.18267693e+00,\n",
       "       -1.18233716e+00, -1.16939924e+00, -1.16772846e+00, -1.16632834e+00,\n",
       "       -1.16431913e+00, -1.16135051e+00, -1.15432402e+00, -1.15167027e+00,\n",
       "       -1.15053351e+00, -1.13954159e+00, -1.13524634e+00, -1.13421314e+00,\n",
       "       -1.12723014e+00, -1.12692597e+00, -1.12656969e+00, -1.12645688e+00,\n",
       "       -1.12514865e+00, -1.12185373e+00, -1.11954009e+00, -1.10694714e+00,\n",
       "       -1.10569026e+00, -1.10225778e+00, -1.10165029e+00, -1.09893747e+00,\n",
       "       -1.09696572e+00, -1.09638138e+00, -1.09361954e+00, -1.09323929e+00,\n",
       "       -1.09023204e+00, -1.09019347e+00, -1.07902514e+00, -1.06643676e+00,\n",
       "       -1.04138630e+00, -1.04115409e+00, -1.03425279e+00, -1.03392791e+00,\n",
       "       -1.03388642e+00, -1.03230593e+00, -1.03197438e+00, -1.03073749e+00,\n",
       "       -1.03026830e+00, -1.01726276e+00, -1.01486104e+00, -1.01166545e+00,\n",
       "       -1.00567498e+00, -9.93308912e-01, -9.88352432e-01, -9.80379531e-01,\n",
       "       -9.76784804e-01, -9.76079653e-01, -9.69868702e-01, -9.63336092e-01,\n",
       "       -9.62300113e-01, -9.59677487e-01, -9.56738667e-01, -9.55913078e-01,\n",
       "       -9.51112914e-01, -9.40960917e-01, -9.40492037e-01, -9.40171439e-01,\n",
       "       -9.37221404e-01, -9.32942129e-01, -9.23942757e-01, -9.22983979e-01,\n",
       "       -9.17450361e-01, -9.13752631e-01, -9.11553058e-01, -9.04260456e-01,\n",
       "       -8.95924523e-01, -8.94520260e-01, -8.93582339e-01, -8.91385443e-01,\n",
       "       -8.90380145e-01, -8.89209882e-01, -8.87820440e-01, -8.87082372e-01,\n",
       "       -8.77044975e-01, -8.75544313e-01, -8.71716904e-01, -8.71578506e-01,\n",
       "       -8.66665227e-01, -8.66218044e-01, -8.64333197e-01, -8.59316065e-01,\n",
       "       -8.48299766e-01, -8.43191541e-01, -8.41898340e-01, -8.41449317e-01,\n",
       "       -8.33336146e-01, -8.26515263e-01, -8.26263696e-01, -8.23598549e-01,\n",
       "       -8.22238678e-01, -8.20693139e-01, -8.17141120e-01, -8.15930079e-01,\n",
       "       -8.10879275e-01, -8.08577865e-01, -8.07294145e-01, -8.04147160e-01,\n",
       "       -8.03543199e-01, -8.03445559e-01, -8.01244400e-01, -8.00365132e-01,\n",
       "       -7.86625457e-01, -7.79523217e-01, -7.79023478e-01, -7.74094162e-01,\n",
       "       -7.73123914e-01, -7.70223404e-01, -7.69384595e-01, -7.68700557e-01,\n",
       "       -7.66714827e-01, -7.65011604e-01, -7.63317844e-01, -7.59003240e-01,\n",
       "       -7.55506463e-01, -7.54837330e-01, -7.54021994e-01, -7.49121160e-01,\n",
       "       -7.36418402e-01, -7.31152396e-01, -7.30370980e-01, -7.29383802e-01,\n",
       "       -7.28313282e-01, -7.22878479e-01, -7.22383544e-01, -7.10085101e-01,\n",
       "       -6.98502547e-01, -6.96209287e-01, -6.96023173e-01, -6.92446614e-01,\n",
       "       -6.91601032e-01, -6.89726251e-01, -6.86837559e-01, -6.86327940e-01,\n",
       "       -6.85692855e-01, -6.83679795e-01, -6.81368896e-01, -6.80064833e-01,\n",
       "       -6.79364726e-01, -6.76162340e-01, -6.72760747e-01, -6.60248439e-01,\n",
       "       -6.52583750e-01, -6.50418089e-01, -6.48575188e-01, -6.44137409e-01,\n",
       "       -6.42836886e-01, -6.40177847e-01, -6.39251274e-01, -6.37828172e-01,\n",
       "       -6.27704121e-01, -6.26338919e-01, -6.17034067e-01, -6.13421227e-01,\n",
       "       -6.06301400e-01, -6.04810430e-01, -6.03563766e-01, -6.00526919e-01,\n",
       "       -5.99584809e-01, -5.97045659e-01, -5.96587062e-01, -5.94285260e-01,\n",
       "       -5.93496875e-01, -5.89854907e-01, -5.82728761e-01, -5.80130448e-01,\n",
       "       -5.80015248e-01, -5.79454258e-01, -5.75859380e-01, -5.73345223e-01,\n",
       "       -5.68922711e-01, -5.67486586e-01, -5.65584958e-01, -5.65346700e-01,\n",
       "       -5.62974366e-01, -5.62495858e-01, -5.60297327e-01, -5.59538737e-01,\n",
       "       -5.59079849e-01, -5.58392498e-01, -5.57990161e-01, -5.57896582e-01,\n",
       "       -5.55955972e-01, -5.54103169e-01, -5.51524002e-01, -5.51023578e-01,\n",
       "       -5.43792191e-01, -5.33249157e-01, -5.29194845e-01, -5.22441639e-01,\n",
       "       -5.17663111e-01, -5.14830418e-01, -5.10796824e-01, -5.00544926e-01,\n",
       "       -4.97241402e-01, -4.88884569e-01, -4.80366420e-01, -4.77011626e-01,\n",
       "       -4.72942619e-01, -4.69023073e-01, -4.67921739e-01, -4.67851161e-01,\n",
       "       -4.66889087e-01, -4.66639934e-01, -4.63928101e-01, -4.54621785e-01,\n",
       "       -4.49450777e-01, -4.47078837e-01, -4.43885845e-01, -4.43838897e-01,\n",
       "       -4.43517750e-01, -4.42889279e-01, -4.42063606e-01, -4.41540190e-01,\n",
       "       -4.37350976e-01, -4.36644273e-01, -4.31702617e-01, -4.31595415e-01,\n",
       "       -4.30093860e-01, -4.28568153e-01, -4.25028087e-01, -4.22108966e-01,\n",
       "       -4.16495334e-01, -4.15974114e-01, -4.14342315e-01, -4.13872148e-01,\n",
       "       -4.13334094e-01, -4.10560480e-01, -4.09134870e-01, -4.07744432e-01,\n",
       "       -4.05026463e-01, -4.04335373e-01, -4.03980606e-01, -4.02708462e-01,\n",
       "       -3.96715255e-01, -3.95154016e-01, -3.92136594e-01, -3.89960488e-01,\n",
       "       -3.89656183e-01, -3.89581215e-01, -3.86566632e-01, -3.85156854e-01,\n",
       "       -3.79025665e-01, -3.78998904e-01, -3.77342777e-01, -3.71349316e-01,\n",
       "       -3.66463984e-01, -3.65094839e-01, -3.60530497e-01, -3.55409147e-01,\n",
       "       -3.44136391e-01, -3.32545379e-01, -3.30869981e-01, -3.28240615e-01,\n",
       "       -3.27084964e-01, -3.26288801e-01, -3.25113595e-01, -3.24887169e-01,\n",
       "       -3.23669315e-01, -3.19899696e-01, -3.19032476e-01, -3.18803897e-01,\n",
       "       -3.10954346e-01, -3.09625277e-01, -3.07868585e-01, -3.06823510e-01,\n",
       "       -3.06682236e-01, -3.06332857e-01, -3.06263304e-01, -3.02266043e-01,\n",
       "       -3.01948946e-01, -2.99339340e-01, -2.96705122e-01, -2.92886254e-01,\n",
       "       -2.92376076e-01, -2.87080820e-01, -2.85359501e-01, -2.80021607e-01,\n",
       "       -2.77582948e-01, -2.74998870e-01, -2.73091445e-01, -2.70736973e-01,\n",
       "       -2.65926961e-01, -2.63883619e-01, -2.63133537e-01, -2.60460631e-01,\n",
       "       -2.59352616e-01, -2.58678906e-01, -2.57093862e-01, -2.53009536e-01,\n",
       "       -2.51558339e-01, -2.46356682e-01, -2.42440981e-01, -2.28715503e-01,\n",
       "       -2.27183446e-01, -2.27154413e-01, -2.27075672e-01, -2.22001450e-01,\n",
       "       -2.21302542e-01, -2.21121067e-01, -2.20558219e-01, -2.20536386e-01,\n",
       "       -2.15143682e-01, -2.14221027e-01, -2.11106212e-01, -2.07472859e-01,\n",
       "       -2.07293170e-01, -2.06711851e-01, -2.04154731e-01, -2.00762071e-01,\n",
       "       -1.97868114e-01, -1.97721497e-01, -1.92831803e-01, -1.89176854e-01,\n",
       "       -1.88793858e-01, -1.87433310e-01, -1.85186906e-01, -1.80669412e-01,\n",
       "       -1.80409745e-01, -1.78307388e-01, -1.76737726e-01, -1.73957690e-01,\n",
       "       -1.73682886e-01, -1.73055485e-01, -1.71882603e-01, -1.65157873e-01,\n",
       "       -1.64531086e-01, -1.63524800e-01, -1.62467883e-01, -1.61703149e-01,\n",
       "       -1.60590461e-01, -1.60241180e-01, -1.60163662e-01, -1.58479575e-01,\n",
       "       -1.56776685e-01, -1.53250684e-01, -1.51907175e-01, -1.47045008e-01,\n",
       "       -1.46609940e-01, -1.46297114e-01, -1.45566014e-01, -1.45145753e-01,\n",
       "       -1.44073554e-01, -1.40741665e-01, -1.36953359e-01, -1.32603249e-01,\n",
       "       -1.29756331e-01, -1.26205684e-01, -1.23099885e-01, -1.22670353e-01,\n",
       "       -1.19717179e-01, -1.18018142e-01, -1.16140705e-01, -1.08822444e-01,\n",
       "       -1.05544655e-01, -1.02155477e-01, -1.01907913e-01, -1.01752071e-01,\n",
       "       -1.01065654e-01, -9.56710658e-02, -9.33500710e-02, -9.32209240e-02,\n",
       "       -9.02472264e-02, -8.93315574e-02, -7.81380780e-02, -7.74670601e-02,\n",
       "       -7.43329913e-02, -6.84468060e-02, -6.46643514e-02, -6.31266476e-02,\n",
       "       -6.08967323e-02, -5.88781835e-02, -5.63875217e-02, -5.07185798e-02,\n",
       "       -4.78439081e-02, -4.21616081e-02, -4.00086667e-02, -3.61180731e-02,\n",
       "       -3.07016562e-02, -2.90627574e-02, -1.66218853e-02, -1.65868023e-02,\n",
       "       -1.21318932e-02, -6.71741962e-03, -5.65492097e-03,  6.29161838e-04,\n",
       "        1.38679781e-03,  5.82398061e-03,  6.20473381e-03,  1.18440840e-02,\n",
       "        1.85635149e-02,  2.09813514e-02,  2.20662280e-02,  2.63713532e-02,\n",
       "        2.64747849e-02,  3.08085744e-02,  3.35195662e-02,  3.37924894e-02,\n",
       "        3.53973316e-02,  3.87763525e-02,  4.10059858e-02,  4.35629461e-02,\n",
       "        4.41511783e-02,  4.76800177e-02,  5.08181612e-02,  5.17848973e-02,\n",
       "        5.65775641e-02,  5.83932298e-02,  6.14704586e-02,  6.61430574e-02,\n",
       "        6.69179144e-02,  6.89065445e-02,  6.99239227e-02,  7.21031192e-02,\n",
       "        7.39149313e-02,  7.48958993e-02,  7.54039787e-02,  8.08959767e-02,\n",
       "        8.13776588e-02,  8.52549860e-02,  8.73043265e-02,  8.78577077e-02,\n",
       "        8.90977376e-02,  8.91805155e-02,  8.95419915e-02,  9.01775300e-02,\n",
       "        9.07262665e-02,  9.21596999e-02,  9.45830485e-02,  1.02221407e-01,\n",
       "        1.06573130e-01,  1.07683177e-01,  1.11584009e-01,  1.11685560e-01,\n",
       "        1.14554553e-01,  1.17075169e-01,  1.17158903e-01,  1.19782383e-01,\n",
       "        1.20657080e-01,  1.24288229e-01,  1.25318092e-01,  1.28818156e-01,\n",
       "        1.31585010e-01,  1.36597546e-01,  1.37315204e-01,  1.44653168e-01,\n",
       "        1.44967308e-01,  1.48891540e-01,  1.50032541e-01,  1.50775367e-01,\n",
       "        1.56168865e-01,  1.58278438e-01,  1.58747081e-01,  1.58946026e-01,\n",
       "        1.64066406e-01,  1.64419530e-01,  1.69773529e-01,  1.74196115e-01,\n",
       "        1.78307615e-01,  1.79027340e-01,  1.88647016e-01,  2.00659355e-01,\n",
       "        2.02149217e-01,  2.07302762e-01,  2.07412880e-01,  2.15885642e-01,\n",
       "        2.24164607e-01,  2.29843670e-01,  2.31433421e-01,  2.32039687e-01,\n",
       "        2.37750887e-01,  2.43353402e-01,  2.44807302e-01,  2.50443654e-01,\n",
       "        2.52332844e-01,  2.53559338e-01,  2.55422399e-01,  2.58750701e-01,\n",
       "        2.60473233e-01,  2.60798229e-01,  2.66282761e-01,  2.66718558e-01,\n",
       "        2.71628515e-01,  2.74895379e-01,  2.78330726e-01,  2.79767979e-01,\n",
       "        2.80417599e-01,  2.83139635e-01,  2.89349615e-01,  2.89497348e-01,\n",
       "        2.90611893e-01,  2.91651422e-01,  2.93416004e-01,  2.97532777e-01,\n",
       "        3.08830175e-01,  3.16385263e-01,  3.17384629e-01,  3.17980129e-01,\n",
       "        3.18376653e-01,  3.18628775e-01,  3.20491722e-01,  3.22465194e-01,\n",
       "        3.23492461e-01,  3.26412218e-01,  3.27160475e-01,  3.31487183e-01,\n",
       "        3.31736923e-01,  3.31813251e-01,  3.34856829e-01,  3.36231663e-01,\n",
       "        3.36452343e-01,  3.38214025e-01,  3.40435434e-01,  3.41088211e-01,\n",
       "        3.43099780e-01,  3.50017313e-01,  3.52765367e-01,  3.62077502e-01,\n",
       "        3.64111465e-01,  3.64402493e-01,  3.69971453e-01,  3.74804835e-01,\n",
       "        3.75600112e-01,  3.79574598e-01,  3.92392681e-01,  3.92490908e-01,\n",
       "        4.02419743e-01,  4.04198784e-01,  4.06396504e-01,  4.07233463e-01,\n",
       "        4.08044297e-01,  4.09718336e-01,  4.09835500e-01,  4.16689253e-01,\n",
       "        4.19324570e-01,  4.19372167e-01,  4.25526569e-01,  4.28456728e-01,\n",
       "        4.31708189e-01,  4.36549339e-01,  4.41045572e-01,  4.41174119e-01,\n",
       "        4.41824805e-01,  4.42383624e-01,  4.49549224e-01,  4.56274504e-01,\n",
       "        4.58208815e-01,  4.59001789e-01,  4.60446566e-01,  4.62159853e-01,\n",
       "        4.62857971e-01,  4.63893587e-01,  4.66127498e-01,  4.70627418e-01,\n",
       "        4.70877066e-01,  4.78998109e-01,  4.85724349e-01,  4.88563296e-01,\n",
       "        4.92340720e-01,  4.94266247e-01,  4.98820435e-01,  4.98985917e-01,\n",
       "        5.01980026e-01,  5.07068779e-01,  5.08402384e-01,  5.08636420e-01,\n",
       "        5.20328191e-01,  5.30583925e-01,  5.31137104e-01,  5.31575559e-01,\n",
       "        5.32585744e-01,  5.34505207e-01,  5.37281565e-01,  5.38994033e-01,\n",
       "        5.41794124e-01,  5.42527528e-01,  5.46232900e-01,  5.57421322e-01,\n",
       "        5.60894823e-01,  5.61207229e-01,  5.61303797e-01,  5.67908816e-01,\n",
       "        5.68074465e-01,  5.68376418e-01,  5.70029971e-01,  5.72956712e-01,\n",
       "        5.74294583e-01,  5.78260944e-01,  5.81541225e-01,  5.82098218e-01,\n",
       "        5.85545677e-01,  5.86169469e-01,  5.86907785e-01,  5.88802441e-01,\n",
       "        5.89480633e-01,  5.90341492e-01,  5.90794378e-01,  5.95984772e-01,\n",
       "        5.97489985e-01,  6.00247673e-01,  6.02928432e-01,  6.03831843e-01,\n",
       "        6.05634422e-01,  6.08433494e-01,  6.17899529e-01,  6.20021357e-01,\n",
       "        6.22779505e-01,  6.23854875e-01,  6.25555148e-01,  6.26039080e-01,\n",
       "        6.26849800e-01,  6.27745854e-01,  6.27820737e-01,  6.32047963e-01,\n",
       "        6.32610319e-01,  6.40322733e-01,  6.43374085e-01,  6.50296107e-01,\n",
       "        6.50817603e-01,  6.54040998e-01,  6.56989155e-01,  6.60743357e-01,\n",
       "        6.64635435e-01,  6.66758546e-01,  6.70240396e-01,  6.82374846e-01,\n",
       "        6.82430071e-01,  6.84391925e-01,  6.85996570e-01,  6.93631936e-01,\n",
       "        6.93771595e-01,  6.96879493e-01,  7.00349587e-01,  7.06317070e-01,\n",
       "        7.08598877e-01,  7.08752192e-01,  7.09796855e-01,  7.13118379e-01,\n",
       "        7.18645054e-01,  7.23911895e-01,  7.31324430e-01,  7.31611673e-01,\n",
       "        7.34633492e-01,  7.38625608e-01,  7.40030898e-01,  7.40258078e-01,\n",
       "        7.45185250e-01,  7.46262493e-01,  7.47121206e-01,  7.56583749e-01,\n",
       "        7.70025599e-01,  7.73684513e-01,  7.81615664e-01,  7.86329491e-01,\n",
       "        7.86649754e-01,  7.87350173e-01,  7.90142944e-01,  7.98536261e-01,\n",
       "        8.04507887e-01,  8.04880532e-01,  8.08160153e-01,  8.11163347e-01,\n",
       "        8.11449092e-01,  8.18585642e-01,  8.24744370e-01,  8.27081053e-01,\n",
       "        8.27155740e-01,  8.28281043e-01,  8.30605063e-01,  8.33398824e-01,\n",
       "        8.35333840e-01,  8.44438575e-01,  8.47960330e-01,  8.49922457e-01,\n",
       "        8.51655865e-01,  8.55861863e-01,  8.60058624e-01,  8.61534919e-01,\n",
       "        8.63164317e-01,  8.63919022e-01,  8.64721217e-01,  8.65391589e-01,\n",
       "        8.68904393e-01,  8.69519079e-01,  8.69532979e-01,  8.72790549e-01,\n",
       "        8.75669442e-01,  8.78436666e-01,  8.81288897e-01,  8.82841807e-01,\n",
       "        8.85233348e-01,  8.86383628e-01,  8.94252036e-01,  8.99442418e-01,\n",
       "        9.00254925e-01,  9.08527940e-01,  9.09172378e-01,  9.13817046e-01,\n",
       "        9.14027991e-01,  9.17114538e-01,  9.20034537e-01,  9.21812700e-01,\n",
       "        9.21832419e-01,  9.22123037e-01,  9.24671610e-01,  9.25143968e-01,\n",
       "        9.27751635e-01,  9.28876626e-01,  9.36877158e-01,  9.39424202e-01,\n",
       "        9.43461269e-01,  9.50302958e-01,  9.52185679e-01,  9.62319554e-01,\n",
       "        9.63103711e-01,  9.68364923e-01,  9.69669720e-01,  9.70421149e-01,\n",
       "        9.75244276e-01,  9.81381889e-01,  9.81562189e-01,  9.82853566e-01,\n",
       "        9.84017345e-01,  9.86346091e-01,  1.00214767e+00,  1.01704398e+00,\n",
       "        1.01882554e+00,  1.02523607e+00,  1.02842186e+00,  1.02848101e+00,\n",
       "        1.03886408e+00,  1.03959069e+00,  1.04008074e+00,  1.04024398e+00,\n",
       "        1.04053439e+00,  1.04076169e+00,  1.04435794e+00,  1.04904871e+00,\n",
       "        1.05041905e+00,  1.05424614e+00,  1.05845116e+00,  1.06451371e+00,\n",
       "        1.06467527e+00,  1.06782815e+00,  1.07111851e+00,  1.07544366e+00,\n",
       "        1.07992477e+00,  1.08128777e+00,  1.08627535e+00,  1.09144231e+00,\n",
       "        1.09417541e+00,  1.09690269e+00,  1.11269976e+00,  1.11481616e+00,\n",
       "        1.11558324e+00,  1.11622632e+00,  1.11784840e+00,  1.11919848e+00,\n",
       "        1.12914327e+00,  1.13312691e+00,  1.14448211e+00,  1.15866259e+00,\n",
       "        1.16246248e+00,  1.16475034e+00,  1.17368664e+00,  1.18366408e+00,\n",
       "        1.19640462e+00,  1.20417447e+00,  1.21088882e+00,  1.21315717e+00,\n",
       "        1.22210235e+00,  1.23139678e+00,  1.23196410e+00,  1.23536489e+00,\n",
       "        1.23913995e+00,  1.24112046e+00,  1.24307752e+00,  1.24309456e+00,\n",
       "        1.24896150e+00,  1.25343508e+00,  1.26088580e+00,  1.29826041e+00,\n",
       "        1.30368150e+00,  1.30391510e+00,  1.31425608e+00,  1.32442263e+00,\n",
       "        1.33569231e+00,  1.35361341e+00,  1.35942396e+00,  1.36309665e+00,\n",
       "        1.36356364e+00,  1.36852189e+00,  1.37268351e+00,  1.37570854e+00,\n",
       "        1.38808186e+00,  1.40793549e+00,  1.41073485e+00,  1.41562387e+00,\n",
       "        1.42578903e+00,  1.42925506e+00,  1.43732722e+00,  1.44017442e+00,\n",
       "        1.45344734e+00,  1.46952077e+00,  1.46962897e+00,  1.48802376e+00,\n",
       "        1.48862240e+00,  1.50424620e+00,  1.50764756e+00,  1.52340995e+00,\n",
       "        1.52365181e+00,  1.52375389e+00,  1.54438091e+00,  1.54692097e+00,\n",
       "        1.55090497e+00,  1.56491942e+00,  1.60607520e+00,  1.60725808e+00,\n",
       "        1.61488956e+00,  1.66022174e+00,  1.66317025e+00,  1.66373490e+00,\n",
       "        1.67460106e+00,  1.68210836e+00,  1.68573317e+00,  1.71783467e+00,\n",
       "        1.73815474e+00,  1.74663430e+00,  1.75616829e+00,  1.79611501e+00,\n",
       "        1.79951545e+00,  1.80391755e+00,  1.81031829e+00,  1.81658745e+00,\n",
       "        1.82586043e+00,  1.83982649e+00,  1.84674617e+00,  1.86744989e+00,\n",
       "        1.91581552e+00,  1.91877983e+00,  1.93851063e+00,  1.94533258e+00,\n",
       "        1.95226071e+00,  1.98154579e+00,  2.02322502e+00,  2.03963328e+00,\n",
       "        2.04067912e+00,  2.05237506e+00,  2.06185585e+00,  2.08326610e+00,\n",
       "        2.08367055e+00,  2.08508783e+00,  2.18087817e+00,  2.22047590e+00,\n",
       "        2.25032033e+00,  2.25131184e+00,  2.26342113e+00,  2.28877443e+00,\n",
       "        2.31065451e+00,  2.33628628e+00,  2.33882054e+00,  2.34138144e+00,\n",
       "        2.37404291e+00,  2.44052635e+00,  2.45192548e+00,  2.53005447e+00,\n",
       "        2.82635191e+00,  3.04829747e+00,  3.40438754e+00,  3.60369496e+00])"
      ]
     },
     "execution_count": 278,
     "metadata": {},
     "output_type": "execute_result"
    }
   ],
   "source": [
    "large_arr"
   ]
  },
  {
   "cell_type": "code",
   "execution_count": 279,
   "metadata": {},
   "outputs": [
    {
     "data": {
      "text/plain": [
       "-1.6565663141622045"
      ]
     },
     "execution_count": 279,
     "metadata": {},
     "output_type": "execute_result"
    }
   ],
   "source": [
    "large_arr[int(0.05*len(large_arr))]"
   ]
  },
  {
   "cell_type": "code",
   "execution_count": 280,
   "metadata": {},
   "outputs": [
    {
     "data": {
      "text/plain": [
       "(5, 3)"
      ]
     },
     "execution_count": 280,
     "metadata": {},
     "output_type": "execute_result"
    }
   ],
   "source": [
    "arr.shape"
   ]
  },
  {
   "cell_type": "code",
   "execution_count": 281,
   "metadata": {},
   "outputs": [
    {
     "data": {
      "text/plain": [
       "15"
      ]
     },
     "execution_count": 281,
     "metadata": {},
     "output_type": "execute_result"
    }
   ],
   "source": [
    "arr.size"
   ]
  },
  {
   "cell_type": "code",
   "execution_count": 282,
   "metadata": {},
   "outputs": [
    {
     "data": {
      "text/plain": [
       "array([1, 2, 3, 4, 5, 6])"
      ]
     },
     "execution_count": 282,
     "metadata": {},
     "output_type": "execute_result"
    }
   ],
   "source": [
    "names = np.array([1,2,3,4,5,6,4,3,2])\n",
    "np.unique(names)"
   ]
  },
  {
   "cell_type": "code",
   "execution_count": 290,
   "metadata": {},
   "outputs": [
    {
     "data": {
      "text/plain": [
       "array([0, 1, 2, 3, 4, 5, 6, 7, 8, 9])"
      ]
     },
     "execution_count": 290,
     "metadata": {},
     "output_type": "execute_result"
    }
   ],
   "source": [
    "arr = np.arange(10)\n",
    "arr"
   ]
  },
  {
   "cell_type": "code",
   "execution_count": 291,
   "metadata": {},
   "outputs": [],
   "source": [
    "np.save('some_array',arr)"
   ]
  },
  {
   "cell_type": "code",
   "execution_count": 292,
   "metadata": {},
   "outputs": [
    {
     "data": {
      "text/plain": [
       "array([0, 1, 2, 3, 4, 5, 6, 7, 8, 9])"
      ]
     },
     "execution_count": 292,
     "metadata": {},
     "output_type": "execute_result"
    }
   ],
   "source": [
    "np.load('some_array.npy')"
   ]
  },
  {
   "cell_type": "code",
   "execution_count": 294,
   "metadata": {},
   "outputs": [],
   "source": [
    "np.savez('some_array',a=arr,b=arr)"
   ]
  },
  {
   "cell_type": "code",
   "execution_count": 297,
   "metadata": {},
   "outputs": [],
   "source": [
    "arch=np.load('some_array.npz')\n"
   ]
  },
  {
   "cell_type": "code",
   "execution_count": 299,
   "metadata": {},
   "outputs": [
    {
     "data": {
      "text/plain": [
       "array([0, 1, 2, 3, 4, 5, 6, 7, 8, 9])"
      ]
     },
     "execution_count": 299,
     "metadata": {},
     "output_type": "execute_result"
    }
   ],
   "source": [
    "arch['a']\n"
   ]
  },
  {
   "cell_type": "code",
   "execution_count": 301,
   "metadata": {},
   "outputs": [
    {
     "data": {
      "text/plain": [
       "array([0, 1, 2, 3, 4, 5, 6, 7, 8, 9])"
      ]
     },
     "execution_count": 301,
     "metadata": {},
     "output_type": "execute_result"
    }
   ],
   "source": [
    "arch['b']"
   ]
  },
  {
   "cell_type": "code",
   "execution_count": 554,
   "metadata": {},
   "outputs": [],
   "source": [
    "np.savez_compressed('some_array.npz',a=arr)"
   ]
  },
  {
   "cell_type": "code",
   "execution_count": 555,
   "metadata": {},
   "outputs": [],
   "source": [
    "k=np.load('some_array.npz')"
   ]
  },
  {
   "cell_type": "code",
   "execution_count": 557,
   "metadata": {},
   "outputs": [
    {
     "ename": "KeyError",
     "evalue": "'e is not a file in the archive'",
     "output_type": "error",
     "traceback": [
      "\u001b[1;31m---------------------------------------------------------------------------\u001b[0m",
      "\u001b[1;31mKeyError\u001b[0m                                  Traceback (most recent call last)",
      "\u001b[1;32m<ipython-input-557-de0cae9b31b5>\u001b[0m in \u001b[0;36m<module>\u001b[1;34m\u001b[0m\n\u001b[1;32m----> 1\u001b[1;33m \u001b[0mk\u001b[0m\u001b[1;33m[\u001b[0m\u001b[1;34m'e'\u001b[0m\u001b[1;33m]\u001b[0m\u001b[1;33m\u001b[0m\u001b[1;33m\u001b[0m\u001b[0m\n\u001b[0m",
      "\u001b[1;32mE:\\anaconda\\anacondasetup\\lib\\site-packages\\numpy\\lib\\npyio.py\u001b[0m in \u001b[0;36m__getitem__\u001b[1;34m(self, key)\u001b[0m\n\u001b[0;32m    260\u001b[0m                 \u001b[1;32mreturn\u001b[0m \u001b[0mself\u001b[0m\u001b[1;33m.\u001b[0m\u001b[0mzip\u001b[0m\u001b[1;33m.\u001b[0m\u001b[0mread\u001b[0m\u001b[1;33m(\u001b[0m\u001b[0mkey\u001b[0m\u001b[1;33m)\u001b[0m\u001b[1;33m\u001b[0m\u001b[1;33m\u001b[0m\u001b[0m\n\u001b[0;32m    261\u001b[0m         \u001b[1;32melse\u001b[0m\u001b[1;33m:\u001b[0m\u001b[1;33m\u001b[0m\u001b[1;33m\u001b[0m\u001b[0m\n\u001b[1;32m--> 262\u001b[1;33m             \u001b[1;32mraise\u001b[0m \u001b[0mKeyError\u001b[0m\u001b[1;33m(\u001b[0m\u001b[1;34m\"%s is not a file in the archive\"\u001b[0m \u001b[1;33m%\u001b[0m \u001b[0mkey\u001b[0m\u001b[1;33m)\u001b[0m\u001b[1;33m\u001b[0m\u001b[1;33m\u001b[0m\u001b[0m\n\u001b[0m\u001b[0;32m    263\u001b[0m \u001b[1;33m\u001b[0m\u001b[0m\n\u001b[0;32m    264\u001b[0m \u001b[1;33m\u001b[0m\u001b[0m\n",
      "\u001b[1;31mKeyError\u001b[0m: 'e is not a file in the archive'"
     ]
    }
   ],
   "source": [
    "k['e']"
   ]
  },
  {
   "cell_type": "code",
   "execution_count": 325,
   "metadata": {},
   "outputs": [
    {
     "data": {
      "text/plain": [
       "array([0, 1, 2, 3, 4, 5, 6, 7, 8, 9])"
      ]
     },
     "execution_count": 325,
     "metadata": {},
     "output_type": "execute_result"
    }
   ],
   "source": [
    "k['b']"
   ]
  },
  {
   "cell_type": "code",
   "execution_count": 326,
   "metadata": {},
   "outputs": [
    {
     "name": "stdout",
     "output_type": "stream",
     "text": [
      "[[1 2 3]\n",
      " [4 5 6]]\n",
      "[[3 4]\n",
      " [7 8]\n",
      " [5 2]]\n"
     ]
    }
   ],
   "source": [
    "x=np.array([[1,2,3],[4,5,6]])\n",
    "y=np.array([[3,4],[7,8],[5,2]])\n",
    "print(x)\n",
    "print(y)"
   ]
  },
  {
   "cell_type": "code",
   "execution_count": 327,
   "metadata": {},
   "outputs": [
    {
     "data": {
      "text/plain": [
       "array([[32, 26],\n",
       "       [77, 68]])"
      ]
     },
     "execution_count": 327,
     "metadata": {},
     "output_type": "execute_result"
    }
   ],
   "source": [
    "x.dot(y)"
   ]
  },
  {
   "cell_type": "code",
   "execution_count": 338,
   "metadata": {},
   "outputs": [],
   "source": [
    "d=np.ones(3).reshape(3,1)"
   ]
  },
  {
   "cell_type": "code",
   "execution_count": 340,
   "metadata": {},
   "outputs": [
    {
     "data": {
      "text/plain": [
       "array([[ 6.],\n",
       "       [15.]])"
      ]
     },
     "execution_count": 340,
     "metadata": {},
     "output_type": "execute_result"
    }
   ],
   "source": [
    "x.dot(d)"
   ]
  },
  {
   "cell_type": "code",
   "execution_count": 343,
   "metadata": {},
   "outputs": [
    {
     "data": {
      "text/plain": [
       "array([ 6, 15])"
      ]
     },
     "execution_count": 343,
     "metadata": {},
     "output_type": "execute_result"
    }
   ],
   "source": [
    "x@[1,1,1]"
   ]
  },
  {
   "cell_type": "code",
   "execution_count": 346,
   "metadata": {},
   "outputs": [],
   "source": [
    "from numpy.linalg import inv,qr"
   ]
  },
  {
   "cell_type": "code",
   "execution_count": 350,
   "metadata": {},
   "outputs": [],
   "source": [
    "x=np.random.randn(5,5)"
   ]
  },
  {
   "cell_type": "code",
   "execution_count": 351,
   "metadata": {},
   "outputs": [
    {
     "data": {
      "text/plain": [
       "array([[-0.3086411 , -0.44850496, -0.26326996,  0.13384429,  1.22451287],\n",
       "       [ 0.04473643, -2.14556924,  0.03021123, -0.11944689, -0.1100471 ],\n",
       "       [-0.40909449,  0.44758663,  1.51970288, -0.06738723, -1.10840207],\n",
       "       [-0.46972091,  0.38415231, -0.45322203, -0.77984929, -2.21056027],\n",
       "       [-1.0979909 , -0.81454774, -0.19544283,  0.23640788, -1.62112102]])"
      ]
     },
     "execution_count": 351,
     "metadata": {},
     "output_type": "execute_result"
    }
   ],
   "source": [
    "x"
   ]
  },
  {
   "cell_type": "code",
   "execution_count": 354,
   "metadata": {},
   "outputs": [
    {
     "data": {
      "text/plain": [
       "array([[ 1.00000000e+00, -3.71646339e-16,  1.63707171e-16,\n",
       "         1.83362895e-16,  1.95926147e-15],\n",
       "       [-3.51099882e-17,  1.00000000e+00,  1.12861943e-17,\n",
       "        -3.76362737e-17, -1.57715838e-16],\n",
       "       [-8.97402665e-17,  2.61158760e-17,  1.00000000e+00,\n",
       "         5.66586236e-18, -3.16235867e-16],\n",
       "       [ 3.72521575e-16,  1.01520719e-17,  2.66634734e-16,\n",
       "         1.00000000e+00,  2.41007621e-16],\n",
       "       [-3.08044727e-16,  5.70030570e-18, -5.01158552e-17,\n",
       "         5.03514258e-17,  1.00000000e+00]])"
      ]
     },
     "execution_count": 354,
     "metadata": {},
     "output_type": "execute_result"
    }
   ],
   "source": [
    "inv(x.T.dot(x)).dot(x.T.dot(x))"
   ]
  },
  {
   "cell_type": "code",
   "execution_count": 355,
   "metadata": {},
   "outputs": [],
   "source": [
    "mat =x.T.dot(x)"
   ]
  },
  {
   "cell_type": "code",
   "execution_count": 356,
   "metadata": {},
   "outputs": [
    {
     "data": {
      "text/plain": [
       "array([[ 1.00000000e+00, -8.89615766e-18,  1.07632253e-16,\n",
       "         3.72521575e-16, -8.60001217e-17],\n",
       "       [-2.96616634e-16,  1.00000000e+00,  5.63112709e-17,\n",
       "        -1.00870231e-16,  8.89670325e-17],\n",
       "       [-1.58308073e-17,  8.62953010e-18,  1.00000000e+00,\n",
       "        -1.77454476e-16,  6.09064472e-17],\n",
       "       [-1.70218505e-16,  5.27924548e-18,  7.24904898e-17,\n",
       "         1.00000000e+00,  5.03514258e-17],\n",
       "       [-3.17740973e-16, -1.54031854e-17,  6.52726420e-17,\n",
       "         2.41007621e-16,  1.00000000e+00]])"
      ]
     },
     "execution_count": 356,
     "metadata": {},
     "output_type": "execute_result"
    }
   ],
   "source": [
    "mat.dot(inv(mat))"
   ]
  },
  {
   "cell_type": "code",
   "execution_count": 357,
   "metadata": {},
   "outputs": [],
   "source": [
    "q,r = qr(mat)"
   ]
  },
  {
   "cell_type": "code",
   "execution_count": 358,
   "metadata": {},
   "outputs": [
    {
     "data": {
      "text/plain": [
       "array([[-0.49744633, -0.01753632, -0.06759973,  0.65911108, -0.5596807 ],\n",
       "       [-0.16865295, -0.97012419,  0.12156314, -0.12339181,  0.02030024],\n",
       "       [ 0.0328364 , -0.12857157, -0.9849434 ,  0.01370989,  0.109953  ],\n",
       "       [-0.02578729,  0.06011013, -0.10078137, -0.65881551, -0.74264866],\n",
       "       [-0.84991771,  0.19597871, -0.01955232, -0.34076563,  0.35032659]])"
      ]
     },
     "execution_count": 358,
     "metadata": {},
     "output_type": "execute_result"
    }
   ],
   "source": [
    "q\n"
   ]
  },
  {
   "cell_type": "code",
   "execution_count": 359,
   "metadata": {},
   "outputs": [
    {
     "data": {
      "text/plain": [
       "array([[ -3.39904149,  -0.94686101,   0.6038573 ,  -1.35463225,\n",
       "        -10.15951198],\n",
       "       [  0.        ,  -5.83051947,  -1.1579372 ,   0.64763502,\n",
       "          2.47146949],\n",
       "       [  0.        ,   0.        ,  -2.4921457 ,  -0.31080888,\n",
       "          0.08366987],\n",
       "       [  0.        ,   0.        ,   0.        ,  -0.9040331 ,\n",
       "         -2.60721769],\n",
       "       [  0.        ,   0.        ,   0.        ,   0.        ,\n",
       "          0.71016177]])"
      ]
     },
     "execution_count": 359,
     "metadata": {},
     "output_type": "execute_result"
    }
   ],
   "source": [
    "r"
   ]
  },
  {
   "cell_type": "code",
   "execution_count": 362,
   "metadata": {},
   "outputs": [
    {
     "data": {
      "text/plain": [
       "array([[-0.68100457,  0.18988089, -0.35229173,  0.19549041],\n",
       "       [ 0.00792798,  0.54576009, -0.18481166, -0.29573063],\n",
       "       [ 0.94296927, -0.04841781,  0.02917895, -0.34405944],\n",
       "       [ 1.41607039, -2.62882964, -1.70419254, -0.45035398]])"
      ]
     },
     "execution_count": 362,
     "metadata": {},
     "output_type": "execute_result"
    }
   ],
   "source": [
    "samples= np.random.normal(size=(4,4))\n",
    "samples\n"
   ]
  },
  {
   "cell_type": "code",
   "execution_count": 363,
   "metadata": {},
   "outputs": [],
   "source": [
    "from random import normalvariate"
   ]
  },
  {
   "cell_type": "code",
   "execution_count": 365,
   "metadata": {},
   "outputs": [
    {
     "name": "stdout",
     "output_type": "stream",
     "text": [
      "852 ms ± 2.42 ms per loop (mean ± std. dev. of 7 runs, 1 loop each)\n"
     ]
    }
   ],
   "source": [
    "N=1000000\n",
    "\n",
    "%timeit samples = [normalvariate(0,1) for _ in range(N)]"
   ]
  },
  {
   "cell_type": "code",
   "execution_count": 367,
   "metadata": {},
   "outputs": [
    {
     "name": "stdout",
     "output_type": "stream",
     "text": [
      "33 ms ± 117 µs per loop (mean ± std. dev. of 7 runs, 10 loops each)\n"
     ]
    }
   ],
   "source": [
    "%timeit np.random.normal(size=N)"
   ]
  },
  {
   "cell_type": "code",
   "execution_count": 383,
   "metadata": {},
   "outputs": [
    {
     "data": {
      "text/plain": [
       "array([[ 4.71435164e-01, -1.19097569e+00,  1.43270697e+00,\n",
       "        -3.12651896e-01],\n",
       "       [-7.20588733e-01,  8.87162940e-01,  8.59588414e-01,\n",
       "        -6.36523504e-01],\n",
       "       [ 1.56963721e-02, -2.24268495e+00,  1.15003572e+00,\n",
       "         9.91946022e-01],\n",
       "       [ 9.53324128e-01, -2.02125482e+00, -3.34077366e-01,\n",
       "         2.11836468e-03]])"
      ]
     },
     "execution_count": 383,
     "metadata": {},
     "output_type": "execute_result"
    }
   ],
   "source": [
    "rng=np.random.RandomState(1234)\n",
    "rng.randn(4,4)"
   ]
  },
  {
   "cell_type": "code",
   "execution_count": 419,
   "metadata": {},
   "outputs": [
    {
     "data": {
      "text/plain": [
       "1"
      ]
     },
     "execution_count": 419,
     "metadata": {},
     "output_type": "execute_result"
    }
   ],
   "source": [
    "import random\n",
    "random.randint(0,1)\n"
   ]
  },
  {
   "cell_type": "code",
   "execution_count": 409,
   "metadata": {},
   "outputs": [],
   "source": [
    "position=0\n",
    "walk=[position]\n",
    "steps=1000\n",
    "for i in range(steps):\n",
    "    step =1 if random.randint(0,1) else -1\n",
    "    position += step\n",
    "    walk.append(position)\n",
    "    "
   ]
  },
  {
   "cell_type": "code",
   "execution_count": 410,
   "metadata": {},
   "outputs": [
    {
     "data": {
      "text/plain": [
       "[<matplotlib.lines.Line2D at 0xc5651a06d8>]"
      ]
     },
     "execution_count": 410,
     "metadata": {},
     "output_type": "execute_result"
    },
    {
     "data": {
      "image/png": "[encoded data removed]",
      "text/plain": [
       "<Figure size 432x288 with 1 Axes>"
      ]
     },
     "metadata": {
      "needs_background": "light"
     },
     "output_type": "display_data"
    }
   ],
   "source": [
    "plt.plot(walk[:100])"
   ]
  },
  {
   "cell_type": "code",
   "execution_count": 480,
   "metadata": {},
   "outputs": [
    {
     "data": {
      "text/plain": [
       "array([1, 1, 0, 1, 1, 0, 1, 1, 1, 0, 1, 1, 0, 1, 1, 0, 1, 1, 1, 1, 1, 0,\n",
       "       1, 0, 0, 0, 0, 1, 0, 1, 1, 0, 0, 0, 1, 1, 1, 1, 0, 1, 1, 0, 1, 1,\n",
       "       1, 0, 1, 0, 1, 0, 1, 0, 1, 0, 0, 0, 0, 0, 0, 1, 1, 0, 1, 1, 0, 0,\n",
       "       0, 0, 0, 1, 0, 0, 1, 1, 0, 1, 1, 1, 0, 0, 0, 1, 0, 1, 1, 1, 0, 0,\n",
       "       1, 0, 1, 0, 0, 0, 1, 0, 1, 1, 1, 1, 0, 1, 0, 1, 1, 1, 0, 1, 0, 1,\n",
       "       0, 1, 0, 1, 1, 0, 1, 0, 1, 1, 0, 0, 0, 0, 1, 0, 1, 1, 0, 0, 1, 0,\n",
       "       0, 1, 1, 0, 0, 0, 0, 1, 0, 0, 0, 1, 0, 0, 0, 1, 0, 0, 0, 1, 1, 1,\n",
       "       1, 1, 0, 0, 1, 0, 0, 1, 1, 0, 1, 0, 0, 0, 0, 1, 0, 0, 1, 1, 0, 0,\n",
       "       1, 1, 1, 0, 1, 1, 1, 0, 1, 1, 0, 0, 0, 1, 1, 0, 0, 0, 1, 0, 0, 0,\n",
       "       1, 1, 0, 1, 0, 0, 1, 1, 1, 0, 0, 0, 0, 0, 1, 0, 1, 0, 1, 1, 1, 0,\n",
       "       0, 1, 1, 0, 0, 1, 0, 0, 1, 0, 1, 1, 0, 0, 0, 1, 1, 1, 0, 1, 1, 0,\n",
       "       0, 0, 0, 0, 0, 0, 0, 1, 0, 1, 1, 1, 1, 0, 1, 1, 0, 0, 1, 1, 0, 1,\n",
       "       0, 1, 1, 0, 0, 0, 0, 1, 1, 0, 1, 0, 0, 1, 0, 1, 0, 1, 0, 1, 0, 0,\n",
       "       1, 0, 0, 0, 1, 1, 1, 1, 1, 0, 0, 1, 1, 1, 1, 1, 1, 1, 1, 0, 1, 1,\n",
       "       1, 1, 0, 1, 1, 0, 0, 1, 1, 0, 0, 1, 1, 1, 1, 1, 1, 0, 0, 1, 1, 0,\n",
       "       0, 1, 1, 0, 0, 1, 1, 1, 0, 0, 1, 0, 0, 1, 1, 1, 1, 0, 1, 0, 1, 1,\n",
       "       0, 1, 1, 1, 0, 0, 0, 1, 0, 1, 1, 0, 1, 1, 1, 0, 1, 0, 0, 1, 1, 1,\n",
       "       0, 1, 0, 1, 0, 0, 1, 0, 1, 0, 1, 1, 0, 0, 1, 1, 0, 1, 0, 1, 0, 1,\n",
       "       0, 0, 0, 0, 0, 1, 0, 0, 1, 1, 1, 1, 0, 1, 0, 1, 0, 1, 1, 1, 0, 1,\n",
       "       0, 0, 0, 0, 1, 0, 0, 1, 1, 0, 1, 1, 1, 1, 1, 0, 1, 1, 1, 0, 1, 0,\n",
       "       0, 0, 1, 1, 1, 1, 0, 0, 0, 1, 0, 1, 1, 0, 1, 0, 0, 1, 0, 0, 1, 1,\n",
       "       0, 1, 0, 0, 1, 1, 0, 0, 0, 0, 1, 1, 1, 1, 1, 1, 1, 1, 1, 1, 0, 1,\n",
       "       0, 1, 1, 1, 0, 1, 0, 0, 1, 1, 0, 0, 0, 1, 0, 1, 0, 0, 0, 1, 0, 1,\n",
       "       0, 1, 0, 1, 1, 1, 0, 1, 1, 1, 0, 1, 1, 0, 1, 0, 1, 1, 0, 0, 1, 0,\n",
       "       1, 1, 1, 1, 1, 0, 1, 0, 0, 1, 1, 0, 0, 0, 0, 1, 1, 1, 1, 0, 1, 1,\n",
       "       1, 1, 1, 0, 0, 0, 0, 1, 0, 0, 0, 0, 1, 1, 0, 0, 1, 1, 0, 0, 0, 0,\n",
       "       1, 1, 1, 0, 1, 0, 1, 0, 0, 1, 1, 0, 0, 0, 0, 1, 1, 0, 0, 1, 1, 0,\n",
       "       1, 0, 0, 0, 0, 0, 1, 1, 0, 1, 1, 0, 0, 0, 0, 0, 1, 1, 0, 1, 1, 1,\n",
       "       1, 0, 1, 0, 0, 0, 1, 0, 0, 1, 0, 1, 0, 0, 1, 0, 1, 0, 0, 0, 0, 1,\n",
       "       0, 1, 0, 0, 1, 1, 0, 0, 0, 1, 1, 0, 0, 1, 1, 1, 0, 1, 1, 1, 0, 0,\n",
       "       1, 1, 0, 0, 0, 1, 0, 1, 0, 0, 1, 0, 0, 0, 0, 0, 1, 0, 1, 0, 1, 0,\n",
       "       0, 0, 1, 0, 0, 1, 0, 0, 0, 1, 1, 0, 1, 1, 0, 1, 0, 1, 1, 0, 0, 1,\n",
       "       0, 0, 1, 1, 1, 1, 0, 1, 1, 0, 0, 0, 0, 0, 1, 0, 1, 0, 1, 0, 1, 1,\n",
       "       1, 1, 0, 0, 1, 1, 1, 1, 1, 1, 1, 1, 1, 0, 1, 1, 0, 0, 1, 1, 0, 0,\n",
       "       0, 0, 1, 1, 0, 0, 1, 1, 1, 1, 1, 0, 0, 1, 1, 0, 0, 1, 0, 0, 1, 0,\n",
       "       0, 0, 0, 0, 1, 0, 1, 0, 0, 1, 1, 0, 0, 1, 0, 1, 0, 0, 0, 0, 1, 1,\n",
       "       0, 0, 1, 1, 1, 1, 1, 1, 1, 1, 1, 1, 1, 1, 1, 0, 0, 0, 0, 1, 1, 1,\n",
       "       1, 1, 0, 0, 0, 0, 0, 0, 1, 1, 1, 1, 0, 0, 1, 0, 1, 0, 1, 1, 1, 0,\n",
       "       0, 1, 1, 1, 0, 0, 0, 1, 1, 1, 0, 1, 1, 1, 0, 0, 0, 0, 0, 0, 1, 1,\n",
       "       0, 1, 0, 1, 1, 1, 1, 1, 0, 1, 0, 1, 0, 0, 1, 1, 0, 1, 1, 0, 0, 1,\n",
       "       1, 0, 0, 0, 0, 0, 1, 1, 1, 1, 0, 0, 0, 1, 1, 0, 0, 0, 1, 1, 1, 1,\n",
       "       0, 1, 1, 0, 0, 0, 0, 1, 1, 0, 0, 0, 1, 0, 1, 0, 0, 1, 1, 0, 0, 0,\n",
       "       0, 1, 0, 1, 1, 0, 0, 1, 1, 0, 1, 1, 1, 0, 1, 0, 0, 0, 0, 1, 0, 1,\n",
       "       1, 0, 1, 0, 1, 1, 1, 1, 0, 1, 1, 0, 1, 1, 0, 0, 0, 1, 1, 0, 0, 0,\n",
       "       1, 1, 1, 1, 1, 1, 0, 1, 0, 1, 0, 1, 1, 0, 1, 0, 0, 1, 0, 0, 0, 0,\n",
       "       1, 0, 1, 1, 0, 1, 1, 0, 0, 1])"
      ]
     },
     "execution_count": 480,
     "metadata": {},
     "output_type": "execute_result"
    }
   ],
   "source": [
    "draws=np.random.randint(0,2,size=1000)\n",
    "draws"
   ]
  },
  {
   "cell_type": "code",
   "execution_count": 481,
   "metadata": {},
   "outputs": [],
   "source": [
    "steps=np.where(draws>0,1,-1)"
   ]
  },
  {
   "cell_type": "code",
   "execution_count": 482,
   "metadata": {},
   "outputs": [
    {
     "data": {
      "text/plain": [
       "array([  1,   2,   1,   2,   3,   2,   3,   4,   5,   4,   5,   6,   5,\n",
       "         6,   7,   6,   7,   8,   9,  10,  11,  10,  11,  10,   9,   8,\n",
       "         7,   8,   7,   8,   9,   8,   7,   6,   7,   8,   9,  10,   9,\n",
       "        10,  11,  10,  11,  12,  13,  12,  13,  12,  13,  12,  13,  12,\n",
       "        13,  12,  11,  10,   9,   8,   7,   8,   9,   8,   9,  10,   9,\n",
       "         8,   7,   6,   5,   6,   5,   4,   5,   6,   5,   6,   7,   8,\n",
       "         7,   6,   5,   6,   5,   6,   7,   8,   7,   6,   7,   6,   7,\n",
       "         6,   5,   4,   5,   4,   5,   6,   7,   8,   7,   8,   7,   8,\n",
       "         9,  10,   9,  10,   9,  10,   9,  10,   9,  10,  11,  10,  11,\n",
       "        10,  11,  12,  11,  10,   9,   8,   9,   8,   9,  10,   9,   8,\n",
       "         9,   8,   7,   8,   9,   8,   7,   6,   5,   6,   5,   4,   3,\n",
       "         4,   3,   2,   1,   2,   1,   0,  -1,   0,   1,   2,   3,   4,\n",
       "         3,   2,   3,   2,   1,   2,   3,   2,   3,   2,   1,   0,  -1,\n",
       "         0,  -1,  -2,  -1,   0,  -1,  -2,  -1,   0,   1,   0,   1,   2,\n",
       "         3,   2,   3,   4,   3,   2,   1,   2,   3,   2,   1,   0,   1,\n",
       "         0,  -1,  -2,  -1,   0,  -1,   0,  -1,  -2,  -1,   0,   1,   0,\n",
       "        -1,  -2,  -3,  -4,  -3,  -4,  -3,  -4,  -3,  -2,  -1,  -2,  -3,\n",
       "        -2,  -1,  -2,  -3,  -2,  -3,  -4,  -3,  -4,  -3,  -2,  -3,  -4,\n",
       "        -5,  -4,  -3,  -2,  -3,  -2,  -1,  -2,  -3,  -4,  -5,  -6,  -7,\n",
       "        -8,  -9,  -8,  -9,  -8,  -7,  -6,  -5,  -6,  -5,  -4,  -5,  -6,\n",
       "        -5,  -4,  -5,  -4,  -5,  -4,  -3,  -4,  -5,  -6,  -7,  -6,  -5,\n",
       "        -6,  -5,  -6,  -7,  -6,  -7,  -6,  -7,  -6,  -7,  -6,  -7,  -8,\n",
       "        -7,  -8,  -9, -10,  -9,  -8,  -7,  -6,  -5,  -6,  -7,  -6,  -5,\n",
       "        -4,  -3,  -2,  -1,   0,   1,   0,   1,   2,   3,   4,   3,   4,\n",
       "         5,   4,   3,   4,   5,   4,   3,   4,   5,   6,   7,   8,   9,\n",
       "         8,   7,   8,   9,   8,   7,   8,   9,   8,   7,   8,   9,  10,\n",
       "         9,   8,   9,   8,   7,   8,   9,  10,  11,  10,  11,  10,  11,\n",
       "        12,  11,  12,  13,  14,  13,  12,  11,  12,  11,  12,  13,  12,\n",
       "        13,  14,  15,  14,  15,  14,  13,  14,  15,  16,  15,  16,  15,\n",
       "        16,  15,  14,  15,  14,  15,  14,  15,  16,  15,  14,  15,  16,\n",
       "        15,  16,  15,  16,  15,  16,  15,  14,  13,  12,  11,  12,  11,\n",
       "        10,  11,  12,  13,  14,  13,  14,  13,  14,  13,  14,  15,  16,\n",
       "        15,  16,  15,  14,  13,  12,  13,  12,  11,  12,  13,  12,  13,\n",
       "        14,  15,  16,  17,  16,  17,  18,  19,  18,  19,  18,  17,  16,\n",
       "        17,  18,  19,  20,  19,  18,  17,  18,  17,  18,  19,  18,  19,\n",
       "        18,  17,  18,  17,  16,  17,  18,  17,  18,  17,  16,  17,  18,\n",
       "        17,  16,  15,  14,  15,  16,  17,  18,  19,  20,  21,  22,  23,\n",
       "        24,  23,  24,  23,  24,  25,  26,  25,  26,  25,  24,  25,  26,\n",
       "        25,  24,  23,  24,  23,  24,  23,  22,  21,  22,  21,  22,  21,\n",
       "        22,  21,  22,  23,  24,  23,  24,  25,  26,  25,  26,  27,  26,\n",
       "        27,  26,  27,  28,  27,  26,  27,  26,  27,  28,  29,  30,  31,\n",
       "        30,  31,  30,  29,  30,  31,  30,  29,  28,  27,  28,  29,  30,\n",
       "        31,  30,  31,  32,  33,  34,  35,  34,  33,  32,  31,  32,  31,\n",
       "        30,  29,  28,  29,  30,  29,  28,  29,  30,  29,  28,  27,  26,\n",
       "        27,  28,  29,  28,  29,  28,  29,  28,  27,  28,  29,  28,  27,\n",
       "        26,  25,  26,  27,  26,  25,  26,  27,  26,  27,  26,  25,  24,\n",
       "        23,  22,  23,  24,  23,  24,  25,  24,  23,  22,  21,  20,  21,\n",
       "        22,  21,  22,  23,  24,  25,  24,  25,  24,  23,  22,  23,  22,\n",
       "        21,  22,  21,  22,  21,  20,  21,  20,  21,  20,  19,  18,  17,\n",
       "        18,  17,  18,  17,  16,  17,  18,  17,  16,  15,  16,  17,  16,\n",
       "        15,  16,  17,  18,  17,  18,  19,  20,  19,  18,  19,  20,  19,\n",
       "        18,  17,  18,  17,  18,  17,  16,  17,  16,  15,  14,  13,  12,\n",
       "        13,  12,  13,  12,  13,  12,  11,  10,  11,  10,   9,  10,   9,\n",
       "         8,   7,   8,   9,   8,   9,  10,   9,  10,   9,  10,  11,  10,\n",
       "         9,  10,   9,   8,   9,  10,  11,  12,  11,  12,  13,  12,  11,\n",
       "        10,   9,   8,   9,   8,   9,   8,   9,   8,   9,  10,  11,  12,\n",
       "        11,  10,  11,  12,  13,  14,  15,  16,  17,  18,  19,  18,  19,\n",
       "        20,  19,  18,  19,  20,  19,  18,  17,  16,  17,  18,  17,  16,\n",
       "        17,  18,  19,  20,  21,  20,  19,  20,  21,  20,  19,  20,  19,\n",
       "        18,  19,  18,  17,  16,  15,  14,  15,  14,  15,  14,  13,  14,\n",
       "        15,  14,  13,  14,  13,  14,  13,  12,  11,  10,  11,  12,  11,\n",
       "        10,  11,  12,  13,  14,  15,  16,  17,  18,  19,  20,  21,  22,\n",
       "        23,  22,  21,  20,  19,  20,  21,  22,  23,  24,  23,  22,  21,\n",
       "        20,  19,  18,  19,  20,  21,  22,  21,  20,  21,  20,  21,  20,\n",
       "        21,  22,  23,  22,  21,  22,  23,  24,  23,  22,  21,  22,  23,\n",
       "        24,  23,  24,  25,  26,  25,  24,  23,  22,  21,  20,  21,  22,\n",
       "        21,  22,  21,  22,  23,  24,  25,  26,  25,  26,  25,  26,  25,\n",
       "        24,  25,  26,  25,  26,  27,  26,  25,  26,  27,  26,  25,  24,\n",
       "        23,  22,  23,  24,  25,  26,  25,  24,  23,  24,  25,  24,  23,\n",
       "        22,  23,  24,  25,  26,  25,  26,  27,  26,  25,  24,  23,  24,\n",
       "        25,  24,  23,  22,  23,  22,  23,  22,  21,  22,  23,  22,  21,\n",
       "        20,  19,  20,  19,  20,  21,  20,  19,  20,  21,  20,  21,  22,\n",
       "        23,  22,  23,  22,  21,  20,  19,  20,  19,  20,  21,  20,  21,\n",
       "        20,  21,  22,  23,  24,  23,  24,  25,  24,  25,  26,  25,  24,\n",
       "        23,  24,  25,  24,  23,  22,  23,  24,  25,  26,  27,  28,  27,\n",
       "        28,  27,  28,  27,  28,  29,  28,  29,  28,  27,  28,  27,  26,\n",
       "        25,  24,  25,  24,  25,  26,  25,  26,  27,  26,  25,  26],\n",
       "      dtype=int32)"
      ]
     },
     "execution_count": 482,
     "metadata": {},
     "output_type": "execute_result"
    }
   ],
   "source": [
    "walks=steps.cumsum()\n",
    "walks"
   ]
  },
  {
   "cell_type": "code",
   "execution_count": 483,
   "metadata": {},
   "outputs": [
    {
     "data": {
      "text/plain": [
       "35"
      ]
     },
     "execution_count": 483,
     "metadata": {},
     "output_type": "execute_result"
    }
   ],
   "source": [
    "walks.max()"
   ]
  },
  {
   "cell_type": "code",
   "execution_count": 484,
   "metadata": {},
   "outputs": [
    {
     "data": {
      "text/plain": [
       "-10"
      ]
     },
     "execution_count": 484,
     "metadata": {},
     "output_type": "execute_result"
    }
   ],
   "source": [
    "walks.min()"
   ]
  },
  {
   "cell_type": "code",
   "execution_count": 487,
   "metadata": {},
   "outputs": [
    {
     "data": {
      "text/plain": [
       "552"
      ]
     },
     "execution_count": 487,
     "metadata": {},
     "output_type": "execute_result"
    }
   ],
   "source": [
    "(np.abs(walks)>=35).argmax()"
   ]
  },
  {
   "cell_type": "code",
   "execution_count": 488,
   "metadata": {},
   "outputs": [],
   "source": [
    "nwalks=5000"
   ]
  },
  {
   "cell_type": "code",
   "execution_count": 491,
   "metadata": {},
   "outputs": [],
   "source": [
    "nsteps=1000"
   ]
  },
  {
   "cell_type": "code",
   "execution_count": 524,
   "metadata": {},
   "outputs": [],
   "source": [
    "draws = np.random.randint(0,2,size=(nwalks,nsteps))\n",
    "steps = np.where(draws>0, 1, -1)"
   ]
  },
  {
   "cell_type": "code",
   "execution_count": 493,
   "metadata": {},
   "outputs": [
    {
     "data": {
      "text/plain": [
       "array([[ 1,  1,  1, ..., -1,  1,  1],\n",
       "       [ 1, -1,  1, ..., -1, -1, -1],\n",
       "       [-1,  1, -1, ..., -1, -1,  1],\n",
       "       ...,\n",
       "       [-1,  1,  1, ...,  1, -1,  1],\n",
       "       [-1,  1,  1, ...,  1,  1,  1],\n",
       "       [-1,  1, -1, ...,  1, -1,  1]])"
      ]
     },
     "execution_count": 493,
     "metadata": {},
     "output_type": "execute_result"
    }
   ],
   "source": [
    "steps"
   ]
  },
  {
   "cell_type": "code",
   "execution_count": 520,
   "metadata": {},
   "outputs": [
    {
     "data": {
      "text/plain": [
       "array([[  1,   2,   3, ...,  38,  39,  40],\n",
       "       [  1,   0,   1, ...,  12,  11,  10],\n",
       "       [ -1,   0,  -1, ..., -42, -43, -42],\n",
       "       ...,\n",
       "       [ -1,   0,   1, ...,  20,  19,  20],\n",
       "       [ -1,   0,   1, ..., -64, -63, -62],\n",
       "       [ -1,   0,  -1, ...,  14,  13,  14]], dtype=int32)"
      ]
     },
     "execution_count": 520,
     "metadata": {},
     "output_type": "execute_result"
    }
   ],
   "source": [
    "walks= steps.cumsum(1)\n",
    "walks"
   ]
  },
  {
   "cell_type": "code",
   "execution_count": 497,
   "metadata": {},
   "outputs": [
    {
     "data": {
      "text/plain": [
       "120"
      ]
     },
     "execution_count": 497,
     "metadata": {},
     "output_type": "execute_result"
    }
   ],
   "source": [
    "walks.max()"
   ]
  },
  {
   "cell_type": "code",
   "execution_count": 498,
   "metadata": {},
   "outputs": [
    {
     "data": {
      "text/plain": [
       "-122"
      ]
     },
     "execution_count": 498,
     "metadata": {},
     "output_type": "execute_result"
    }
   ],
   "source": [
    "walks.min()"
   ]
  },
  {
   "cell_type": "code",
   "execution_count": 525,
   "metadata": {},
   "outputs": [
    {
     "data": {
      "text/plain": [
       "3251"
      ]
     },
     "execution_count": 525,
     "metadata": {},
     "output_type": "execute_result"
    }
   ],
   "source": [
    "hits30 =(np.abs(walks)>30)\n",
    "hits30.any(1).sum()"
   ]
  },
  {
   "cell_type": "code",
   "execution_count": 526,
   "metadata": {},
   "outputs": [
    {
     "data": {
      "text/plain": [
       "array([494, 366, 528, ..., 928, 930, 170], dtype=int64)"
      ]
     },
     "execution_count": 526,
     "metadata": {},
     "output_type": "execute_result"
    }
   ],
   "source": [
    "lines= (np.abs(walks[hits30.any(1)])>30).argmax(1)\n",
    "lines"
   ]
  },
  {
   "cell_type": "code",
   "execution_count": 527,
   "metadata": {},
   "outputs": [
    {
     "data": {
      "text/plain": [
       "522.8735773608121"
      ]
     },
     "execution_count": 527,
     "metadata": {},
     "output_type": "execute_result"
    }
   ],
   "source": [
    "lines.mean()"
   ]
  },
  {
   "cell_type": "code",
   "execution_count": 534,
   "metadata": {},
   "outputs": [
    {
     "data": {
      "text/plain": [
       "142"
      ]
     },
     "execution_count": 534,
     "metadata": {},
     "output_type": "execute_result"
    }
   ],
   "source": [
    "(np.random.normal(loc=0,scale=0.25,size=(5000,1000))>1).sum()"
   ]
  }
 ],
 "metadata": {
  "kernelspec": {
   "display_name": "Python 3",
   "language": "python",
   "name": "python3"
  },
  "language_info": {
   "codemirror_mode": {
    "name": "ipython",
    "version": 3
   },
   "file_extension": ".py",
   "mimetype": "text/x-python",
   "name": "python",
   "nbconvert_exporter": "python",
   "pygments_lexer": "ipython3",
   "version": "3.7.3"
  }
 },
 "nbformat": 4,
 "nbformat_minor": 2
}
